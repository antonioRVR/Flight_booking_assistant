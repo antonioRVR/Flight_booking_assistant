{
  "nbformat": 4,
  "nbformat_minor": 0,
  "metadata": {
    "colab": {
      "provenance": [],
      "collapsed_sections": [
        "hwMm2HvgyxcL"
      ]
    },
    "kernelspec": {
      "name": "python3",
      "display_name": "Python 3"
    },
    "language_info": {
      "name": "python"
    }
  },
  "cells": [
    {
      "cell_type": "markdown",
      "source": [
        "Este trabajo ha sido realizado por: Antonio Ramón Vázquez Ramírez para CodeIntelligenceAcademy"
      ],
      "metadata": {
        "id": "10J6mzCXjdpw"
      }
    },
    {
      "cell_type": "markdown",
      "source": [
        "# Preajustes y generación de base de datos\n",
        "\n",
        "Necesitamos crear un modelo de lenguaje que genere transcripciones para la reserva de un vuelo con la información sobre el vuelo (fecha, aeropuerto de salida y llegada, asientos que se van a reservar)\n",
        "\n",
        "Para esta tarea vamos a necesitar:\n",
        "\n",
        "* Generar un modelo de lenguaje con las caracteristicas deseadas\n",
        "* Acceder a los datos de vuelo, en este caso almacenados en Google Drive personal\n",
        "* Aportar los datos de vuelos como contexto que el modelo pueda utilizar"
      ],
      "metadata": {
        "id": "lkOmYH5yxaG0"
      }
    },
    {
      "cell_type": "markdown",
      "source": [
        "* la cantidad de vuelos ha tenido que ser reducida. Ya que al generar vuelos para todo un año OpenAI pide añadir un método de pago al tener que tratar con archivos demasiado grandes"
      ],
      "metadata": {
        "id": "OaD5YPYK8TjQ"
      }
    },
    {
      "cell_type": "markdown",
      "source": [
        "## Descarga y ejecución del generador de vuelos\n",
        "\n",
        "*Descargamos las librerias necesarios\n",
        "\n",
        "*Descargamos los archivos de generación de datos. Cada vez que se ejecute el cuaderno se generaran nuevos datos"
      ],
      "metadata": {
        "id": "hwMm2HvgyxcL"
      }
    },
    {
      "cell_type": "code",
      "source": [
        "# Librerias de archivos\n",
        "\n",
        "!pip install gdown --q\n",
        "\n",
        "# Librerias de IA\n",
        "!pip install langchain -q\n",
        "!pip install openai -q\n",
        "!pip install langchain_openai -q\n",
        "!pip install beautifulsoup4 -q\n",
        "!pip install faiss-cpu -q\n",
        "\n",
        "\n",
        "#Adicion de contexto\n",
        "!pip install chromadb --q\n",
        "!pip install sentence-transformers --q\n",
        "\n",
        " #modificar numero de tokens\n",
        "!pip install tiktoken --q\n",
        "\n",
        "# para generar el pdf con la reserva\n",
        "!pip install reportlab --q"
      ],
      "metadata": {
        "id": "L4U8W6Kgj7Ib",
        "colab": {
          "base_uri": "https://localhost:8080/"
        },
        "outputId": "3d105231-cecc-4e0b-c779-1ebbf1e463a1"
      },
      "execution_count": 1,
      "outputs": [
        {
          "output_type": "stream",
          "name": "stdout",
          "text": [
            "\u001b[2K     \u001b[90m━━━━━━━━━━━━━━━━━━━━━━━━━━━━━━━━━━━━━━━━\u001b[0m \u001b[32m810.5/810.5 kB\u001b[0m \u001b[31m4.9 MB/s\u001b[0m eta \u001b[36m0:00:00\u001b[0m\n",
            "\u001b[2K     \u001b[90m━━━━━━━━━━━━━━━━━━━━━━━━━━━━━━━━━━━━━━━━\u001b[0m \u001b[32m1.8/1.8 MB\u001b[0m \u001b[31m12.0 MB/s\u001b[0m eta \u001b[36m0:00:00\u001b[0m\n",
            "\u001b[2K     \u001b[90m━━━━━━━━━━━━━━━━━━━━━━━━━━━━━━━━━━━━━━━━\u001b[0m \u001b[32m273.9/273.9 kB\u001b[0m \u001b[31m15.6 MB/s\u001b[0m eta \u001b[36m0:00:00\u001b[0m\n",
            "\u001b[2K     \u001b[90m━━━━━━━━━━━━━━━━━━━━━━━━━━━━━━━━━━━━━━━━\u001b[0m \u001b[32m86.9/86.9 kB\u001b[0m \u001b[31m4.4 MB/s\u001b[0m eta \u001b[36m0:00:00\u001b[0m\n",
            "\u001b[2K     \u001b[90m━━━━━━━━━━━━━━━━━━━━━━━━━━━━━━━━━━━━━━━━\u001b[0m \u001b[32m49.4/49.4 kB\u001b[0m \u001b[31m1.9 MB/s\u001b[0m eta \u001b[36m0:00:00\u001b[0m\n",
            "\u001b[2K     \u001b[90m━━━━━━━━━━━━━━━━━━━━━━━━━━━━━━━━━━━━━━━━\u001b[0m \u001b[32m53.0/53.0 kB\u001b[0m \u001b[31m5.1 MB/s\u001b[0m eta \u001b[36m0:00:00\u001b[0m\n",
            "\u001b[2K     \u001b[90m━━━━━━━━━━━━━━━━━━━━━━━━━━━━━━━━━━━━━━━━\u001b[0m \u001b[32m144.8/144.8 kB\u001b[0m \u001b[31m3.2 MB/s\u001b[0m eta \u001b[36m0:00:00\u001b[0m\n",
            "\u001b[2K     \u001b[90m━━━━━━━━━━━━━━━━━━━━━━━━━━━━━━━━━━━━━━━━\u001b[0m \u001b[32m262.9/262.9 kB\u001b[0m \u001b[31m6.6 MB/s\u001b[0m eta \u001b[36m0:00:00\u001b[0m\n",
            "\u001b[2K     \u001b[90m━━━━━━━━━━━━━━━━━━━━━━━━━━━━━━━━━━━━━━━━\u001b[0m \u001b[32m75.6/75.6 kB\u001b[0m \u001b[31m9.4 MB/s\u001b[0m eta \u001b[36m0:00:00\u001b[0m\n",
            "\u001b[2K     \u001b[90m━━━━━━━━━━━━━━━━━━━━━━━━━━━━━━━━━━━━━━━━\u001b[0m \u001b[32m77.9/77.9 kB\u001b[0m \u001b[31m9.5 MB/s\u001b[0m eta \u001b[36m0:00:00\u001b[0m\n",
            "\u001b[2K     \u001b[90m━━━━━━━━━━━━━━━━━━━━━━━━━━━━━━━━━━━━━━━━\u001b[0m \u001b[32m58.3/58.3 kB\u001b[0m \u001b[31m6.8 MB/s\u001b[0m eta \u001b[36m0:00:00\u001b[0m\n",
            "\u001b[2K     \u001b[90m━━━━━━━━━━━━━━━━━━━━━━━━━━━━━━━━━━━━━━━━\u001b[0m \u001b[32m1.8/1.8 MB\u001b[0m \u001b[31m26.7 MB/s\u001b[0m eta \u001b[36m0:00:00\u001b[0m\n",
            "\u001b[2K     \u001b[90m━━━━━━━━━━━━━━━━━━━━━━━━━━━━━━━━━━━━━━━━\u001b[0m \u001b[32m27.0/27.0 MB\u001b[0m \u001b[31m47.6 MB/s\u001b[0m eta \u001b[36m0:00:00\u001b[0m\n",
            "\u001b[2K     \u001b[90m━━━━━━━━━━━━━━━━━━━━━━━━━━━━━━━━━━━━━━━━\u001b[0m \u001b[32m525.5/525.5 kB\u001b[0m \u001b[31m7.6 MB/s\u001b[0m eta \u001b[36m0:00:00\u001b[0m\n",
            "\u001b[2K     \u001b[90m━━━━━━━━━━━━━━━━━━━━━━━━━━━━━━━━━━━━━━━━\u001b[0m \u001b[32m2.4/2.4 MB\u001b[0m \u001b[31m22.4 MB/s\u001b[0m eta \u001b[36m0:00:00\u001b[0m\n",
            "\u001b[2K     \u001b[90m━━━━━━━━━━━━━━━━━━━━━━━━━━━━━━━━━━━━━━━━\u001b[0m \u001b[32m92.1/92.1 kB\u001b[0m \u001b[31m10.6 MB/s\u001b[0m eta \u001b[36m0:00:00\u001b[0m\n",
            "\u001b[2K     \u001b[90m━━━━━━━━━━━━━━━━━━━━━━━━━━━━━━━━━━━━━━━━\u001b[0m \u001b[32m60.8/60.8 kB\u001b[0m \u001b[31m6.6 MB/s\u001b[0m eta \u001b[36m0:00:00\u001b[0m\n",
            "\u001b[2K     \u001b[90m━━━━━━━━━━━━━━━━━━━━━━━━━━━━━━━━━━━━━━━━\u001b[0m \u001b[32m41.3/41.3 kB\u001b[0m \u001b[31m4.4 MB/s\u001b[0m eta \u001b[36m0:00:00\u001b[0m\n",
            "\u001b[2K     \u001b[90m━━━━━━━━━━━━━━━━━━━━━━━━━━━━━━━━━━━━━━━━\u001b[0m \u001b[32m5.4/5.4 MB\u001b[0m \u001b[31m49.6 MB/s\u001b[0m eta \u001b[36m0:00:00\u001b[0m\n",
            "\u001b[2K     \u001b[90m━━━━━━━━━━━━━━━━━━━━━━━━━━━━━━━━━━━━━━━━\u001b[0m \u001b[32m6.8/6.8 MB\u001b[0m \u001b[31m77.8 MB/s\u001b[0m eta \u001b[36m0:00:00\u001b[0m\n",
            "\u001b[2K     \u001b[90m━━━━━━━━━━━━━━━━━━━━━━━━━━━━━━━━━━━━━━━━\u001b[0m \u001b[32m60.1/60.1 kB\u001b[0m \u001b[31m7.3 MB/s\u001b[0m eta \u001b[36m0:00:00\u001b[0m\n",
            "\u001b[2K     \u001b[90m━━━━━━━━━━━━━━━━━━━━━━━━━━━━━━━━━━━━━━━━\u001b[0m \u001b[32m106.1/106.1 kB\u001b[0m \u001b[31m10.4 MB/s\u001b[0m eta \u001b[36m0:00:00\u001b[0m\n",
            "\u001b[2K     \u001b[90m━━━━━━━━━━━━━━━━━━━━━━━━━━━━━━━━━━━━━━━━\u001b[0m \u001b[32m67.3/67.3 kB\u001b[0m \u001b[31m7.4 MB/s\u001b[0m eta \u001b[36m0:00:00\u001b[0m\n",
            "\u001b[?25h  Installing build dependencies ... \u001b[?25l\u001b[?25hdone\n",
            "  Getting requirements to build wheel ... \u001b[?25l\u001b[?25hdone\n",
            "  Preparing metadata (pyproject.toml) ... \u001b[?25l\u001b[?25hdone\n",
            "\u001b[2K     \u001b[90m━━━━━━━━━━━━━━━━━━━━━━━━━━━━━━━━━━━━━━━━\u001b[0m \u001b[32m698.9/698.9 kB\u001b[0m \u001b[31m36.7 MB/s\u001b[0m eta \u001b[36m0:00:00\u001b[0m\n",
            "\u001b[2K     \u001b[90m━━━━━━━━━━━━━━━━━━━━━━━━━━━━━━━━━━━━━━━━\u001b[0m \u001b[32m1.6/1.6 MB\u001b[0m \u001b[31m47.6 MB/s\u001b[0m eta \u001b[36m0:00:00\u001b[0m\n",
            "\u001b[2K     \u001b[90m━━━━━━━━━━━━━━━━━━━━━━━━━━━━━━━━━━━━━━━━\u001b[0m \u001b[32m67.6/67.6 kB\u001b[0m \u001b[31m7.4 MB/s\u001b[0m eta \u001b[36m0:00:00\u001b[0m\n",
            "\u001b[2K     \u001b[90m━━━━━━━━━━━━━━━━━━━━━━━━━━━━━━━━━━━━━━━━\u001b[0m \u001b[32m71.5/71.5 kB\u001b[0m \u001b[31m7.7 MB/s\u001b[0m eta \u001b[36m0:00:00\u001b[0m\n",
            "\u001b[2K     \u001b[90m━━━━━━━━━━━━━━━━━━━━━━━━━━━━━━━━━━━━━━━━\u001b[0m \u001b[32m46.0/46.0 kB\u001b[0m \u001b[31m4.0 MB/s\u001b[0m eta \u001b[36m0:00:00\u001b[0m\n",
            "\u001b[2K     \u001b[90m━━━━━━━━━━━━━━━━━━━━━━━━━━━━━━━━━━━━━━━━\u001b[0m \u001b[32m50.8/50.8 kB\u001b[0m \u001b[31m5.6 MB/s\u001b[0m eta \u001b[36m0:00:00\u001b[0m\n",
            "\u001b[2K     \u001b[90m━━━━━━━━━━━━━━━━━━━━━━━━━━━━━━━━━━━━━━━━\u001b[0m \u001b[32m341.4/341.4 kB\u001b[0m \u001b[31m32.4 MB/s\u001b[0m eta \u001b[36m0:00:00\u001b[0m\n",
            "\u001b[2K     \u001b[90m━━━━━━━━━━━━━━━━━━━━━━━━━━━━━━━━━━━━━━━━\u001b[0m \u001b[32m3.4/3.4 MB\u001b[0m \u001b[31m74.3 MB/s\u001b[0m eta \u001b[36m0:00:00\u001b[0m\n",
            "\u001b[2K     \u001b[90m━━━━━━━━━━━━━━━━━━━━━━━━━━━━━━━━━━━━━━━━\u001b[0m \u001b[32m1.3/1.3 MB\u001b[0m \u001b[31m67.4 MB/s\u001b[0m eta \u001b[36m0:00:00\u001b[0m\n",
            "\u001b[2K     \u001b[90m━━━━━━━━━━━━━━━━━━━━━━━━━━━━━━━━━━━━━━━━\u001b[0m \u001b[32m130.2/130.2 kB\u001b[0m \u001b[31m15.5 MB/s\u001b[0m eta \u001b[36m0:00:00\u001b[0m\n",
            "\u001b[2K     \u001b[90m━━━━━━━━━━━━━━━━━━━━━━━━━━━━━━━━━━━━━━━━\u001b[0m \u001b[32m86.8/86.8 kB\u001b[0m \u001b[31m10.3 MB/s\u001b[0m eta \u001b[36m0:00:00\u001b[0m\n",
            "\u001b[?25h  Building wheel for pypika (pyproject.toml) ... \u001b[?25l\u001b[?25hdone\n",
            "\u001b[2K     \u001b[90m━━━━━━━━━━━━━━━━━━━━━━━━━━━━━━━━━━━━━━━━\u001b[0m \u001b[32m163.3/163.3 kB\u001b[0m \u001b[31m4.7 MB/s\u001b[0m eta \u001b[36m0:00:00\u001b[0m\n",
            "\u001b[2K     \u001b[90m━━━━━━━━━━━━━━━━━━━━━━━━━━━━━━━━━━━━━━━━\u001b[0m \u001b[32m23.7/23.7 MB\u001b[0m \u001b[31m26.7 MB/s\u001b[0m eta \u001b[36m0:00:00\u001b[0m\n",
            "\u001b[2K     \u001b[90m━━━━━━━━━━━━━━━━━━━━━━━━━━━━━━━━━━━━━━━━\u001b[0m \u001b[32m823.6/823.6 kB\u001b[0m \u001b[31m44.8 MB/s\u001b[0m eta \u001b[36m0:00:00\u001b[0m\n",
            "\u001b[2K     \u001b[90m━━━━━━━━━━━━━━━━━━━━━━━━━━━━━━━━━━━━━━━━\u001b[0m \u001b[32m14.1/14.1 MB\u001b[0m \u001b[31m62.0 MB/s\u001b[0m eta \u001b[36m0:00:00\u001b[0m\n",
            "\u001b[2K     \u001b[90m━━━━━━━━━━━━━━━━━━━━━━━━━━━━━━━━━━━━━━━━\u001b[0m \u001b[32m731.7/731.7 MB\u001b[0m \u001b[31m1.9 MB/s\u001b[0m eta \u001b[36m0:00:00\u001b[0m\n",
            "\u001b[2K     \u001b[90m━━━━━━━━━━━━━━━━━━━━━━━━━━━━━━━━━━━━━━━━\u001b[0m \u001b[32m410.6/410.6 MB\u001b[0m \u001b[31m3.2 MB/s\u001b[0m eta \u001b[36m0:00:00\u001b[0m\n",
            "\u001b[2K     \u001b[90m━━━━━━━━━━━━━━━━━━━━━━━━━━━━━━━━━━━━━━━━\u001b[0m \u001b[32m121.6/121.6 MB\u001b[0m \u001b[31m8.5 MB/s\u001b[0m eta \u001b[36m0:00:00\u001b[0m\n",
            "\u001b[2K     \u001b[90m━━━━━━━━━━━━━━━━━━━━━━━━━━━━━━━━━━━━━━━━\u001b[0m \u001b[32m56.5/56.5 MB\u001b[0m \u001b[31m9.9 MB/s\u001b[0m eta \u001b[36m0:00:00\u001b[0m\n",
            "\u001b[2K     \u001b[90m━━━━━━━━━━━━━━━━━━━━━━━━━━━━━━━━━━━━━━━━\u001b[0m \u001b[32m124.2/124.2 MB\u001b[0m \u001b[31m6.7 MB/s\u001b[0m eta \u001b[36m0:00:00\u001b[0m\n",
            "\u001b[2K     \u001b[90m━━━━━━━━━━━━━━━━━━━━━━━━━━━━━━━━━━━━━━━━\u001b[0m \u001b[32m196.0/196.0 MB\u001b[0m \u001b[31m6.1 MB/s\u001b[0m eta \u001b[36m0:00:00\u001b[0m\n",
            "\u001b[2K     \u001b[90m━━━━━━━━━━━━━━━━━━━━━━━━━━━━━━━━━━━━━━━━\u001b[0m \u001b[32m166.0/166.0 MB\u001b[0m \u001b[31m7.6 MB/s\u001b[0m eta \u001b[36m0:00:00\u001b[0m\n",
            "\u001b[2K     \u001b[90m━━━━━━━━━━━━━━━━━━━━━━━━━━━━━━━━━━━━━━━━\u001b[0m \u001b[32m99.1/99.1 kB\u001b[0m \u001b[31m10.5 MB/s\u001b[0m eta \u001b[36m0:00:00\u001b[0m\n",
            "\u001b[2K     \u001b[90m━━━━━━━━━━━━━━━━━━━━━━━━━━━━━━━━━━━━━━━━\u001b[0m \u001b[32m21.1/21.1 MB\u001b[0m \u001b[31m65.9 MB/s\u001b[0m eta \u001b[36m0:00:00\u001b[0m\n",
            "\u001b[2K     \u001b[90m━━━━━━━━━━━━━━━━━━━━━━━━━━━━━━━━━━━━━━━━\u001b[0m \u001b[32m1.9/1.9 MB\u001b[0m \u001b[31m14.6 MB/s\u001b[0m eta \u001b[36m0:00:00\u001b[0m\n",
            "\u001b[?25h"
          ]
        }
      ]
    },
    {
      "cell_type": "code",
      "source": [
        "#IMPORTAMOS LIBRERIAS NECESARIAS\n",
        "\n",
        "#Librerias gestión de archivos y directorios\n",
        "import os\n",
        "\n",
        "from reportlab.lib.pagesizes import letter #para generar los pdfs\n",
        "from reportlab.pdfgen import canvas\n",
        "\n",
        "#from google.colab import drive, userdata\n",
        "import gdown\n",
        "from google.colab import userdata\n",
        "\n",
        "#Librerias de analis de datos\n",
        "import pandas as pd\n",
        "from datetime import datetime\n",
        "\n",
        "\n",
        "#Librerias de modelos de lenguaje\n",
        "from langchain.llms import OpenAI\n",
        "from langchain.chat_models import ChatOpenAI\n",
        "from langchain_core.prompts import ChatPromptTemplate\n",
        "from langchain_core.output_parsers import StrOutputParser\n",
        "from langchain.chains import LLMChain\n",
        "from langchain.schema import HumanMessage, AIMessage, SystemMessage\n",
        "\n",
        "from langchain.prompts.chat import(\n",
        "    ChatPromptTemplate,\n",
        "    SystemMessagePromptTemplate,\n",
        "    HumanMessagePromptTemplate,\n",
        "    AIMessagePromptTemplate\n",
        ")\n",
        "\n",
        "from langchain.schema.messages import ChatMessage\n",
        "\n",
        "from langchain.memory import ChatMessageHistory #Para llevar registros de chat\n",
        "\n",
        "from typing import List\n",
        "from langchain.prompts import PromptTemplate\n",
        "from langchain_core.output_parsers import JsonOutputParser\n",
        "from langchain_core.pydantic_v1 import BaseModel, Field\n",
        "\n",
        "\n",
        "#Librerias de IA para interpretar documentos\n",
        "from langchain.document_loaders import CSVLoader\n",
        "from langchain.embeddings.sentence_transformer import SentenceTransformerEmbeddings\n",
        "from langchain.vectorstores import Chroma\n",
        "from langchain_text_splitters import RecursiveCharacterTextSplitter\n",
        "\n",
        "\n",
        "from langchain.document_loaders import CSVLoader\n",
        "from langchain.embeddings import OpenAIEmbeddings\n",
        "from langchain.prompts import ChatPromptTemplate\n",
        "from langchain.vectorstores import Chroma\n",
        "from langchain_core.output_parsers import StrOutputParser\n",
        "from langchain_core.runnables import RunnableLambda, RunnablePassthrough"
      ],
      "metadata": {
        "id": "uWix6oMV0Eti"
      },
      "execution_count": 2,
      "outputs": []
    },
    {
      "cell_type": "code",
      "execution_count": 3,
      "metadata": {
        "colab": {
          "base_uri": "https://localhost:8080/"
        },
        "id": "LYlf3dPAjXG6",
        "outputId": "ea5c4c75-6662-4c88-a909-20db9e529c8b"
      },
      "outputs": [
        {
          "output_type": "stream",
          "name": "stdout",
          "text": [
            "Retrieving folder contents\n",
            "Retrieving folder 1mD6_1hKMQCYmI2z0FMISaI87TSICJdfe common\n",
            "Retrieving folder 1rdIynMhlmjRIW-AoCnyFp83WqHIOF60L __pycache__\n",
            "Processing file 1ttVHD2-p3otLQpaIYbU_yXmcKk_U8APu Archivos.cpython-38.pyc\n",
            "Processing file 1t__n4aLvoxd_oXNgF0tnexbrm8WapLYH Archivos.cpython-311.pyc\n",
            "Processing file 1tdphPpoldF2TEUbfXQ7v48a_R51Aki2x Clases.cpython-38.pyc\n",
            "Processing file 1u91dVAGDJyrXrUs7_qRjULCZiB-IubPu Clases.cpython-311.pyc\n",
            "Processing file 1tiJY-uIaSGndqNvma7jJzRIyv3NUBbFB Funciones_generacion.cpython-38.pyc\n",
            "Processing file 1tWDEFzVLgqYa8lIpdO1u8HppXYXfVRzF Funciones_generacion.cpython-311.pyc\n",
            "Processing file 1to4UQhuxkkICrX9qJPgped1sBO_LS9l3 Parametrizacion.cpython-38.pyc\n",
            "Processing file 1rj79bJpDUtB379anDUSmzWyZ1JHylVrX Archivos.py\n",
            "Processing file 1rkCbba7Dwy4GkWxDEWao_ZpPtLWwVCSK Clases.py\n",
            "Processing file 1rgUnJRitu1IZX_FL1-Tyvxy4yWFYawdU Funciones_generacion.py\n",
            "Processing file 1rVzDAp4Hgm9JNBKXPHV2FIeHrbUyoS5F Parametrizacion.py\n",
            "Processing file 1n2OXsfJyQj2S7xRzCQ2015AsQ6TrOX7i Generador_vuelos_main.py\n",
            "Processing file 1mCTpZGgsQxDcN80uXwnp8WRVtAzq0ArO info_vuelos.txt\n",
            "Processing file 1mG0Ru9F4qWq4wOoNTZ7K8B4_Ivj0K3Cx Readme.txt\n",
            "Processing file 1mGdxPc0HdzpXL-l6Y6rJlQBFzeWKKwVi trabajo final notas.txt\n",
            "Processing file 1mA8R8pRSlZ9bF1l5qpxXkdh08iqn1AIc Trabajo_Final.docx\n",
            "Processing file 1vh-zotbxDokqw-dxm6k-bvb0CNAlBuIA vuelos.csv\n",
            "Retrieving folder contents completed\n",
            "Building directory structure\n",
            "Building directory structure completed\n",
            "Downloading...\n",
            "From (original): https://drive.google.com/uc?id=1ttVHD2-p3otLQpaIYbU_yXmcKk_U8APu\n",
            "From (redirected): https://drive.google.com/uc?id=1ttVHD2-p3otLQpaIYbU_yXmcKk_U8APu&confirm=t&uuid=79ee7352-6d13-49c2-8f73-4f662a2a03ae\n",
            "To: /content/trabajo_final/common/__pycache__/Archivos.cpython-38.pyc\n",
            "100% 886/886 [00:00<00:00, 3.83MB/s]\n",
            "Downloading...\n",
            "From (original): https://drive.google.com/uc?id=1t__n4aLvoxd_oXNgF0tnexbrm8WapLYH\n",
            "From (redirected): https://drive.google.com/uc?id=1t__n4aLvoxd_oXNgF0tnexbrm8WapLYH&confirm=t&uuid=3526a4b0-bad9-435b-aaf2-15ca138a36f2\n",
            "To: /content/trabajo_final/common/__pycache__/Archivos.cpython-311.pyc\n",
            "100% 1.65k/1.65k [00:00<00:00, 5.92MB/s]\n",
            "Downloading...\n",
            "From (original): https://drive.google.com/uc?id=1tdphPpoldF2TEUbfXQ7v48a_R51Aki2x\n",
            "From (redirected): https://drive.google.com/uc?id=1tdphPpoldF2TEUbfXQ7v48a_R51Aki2x&confirm=t&uuid=76c9fc08-8d72-4f65-9164-51625336e47e\n",
            "To: /content/trabajo_final/common/__pycache__/Clases.cpython-38.pyc\n",
            "100% 3.02k/3.02k [00:00<00:00, 10.1MB/s]\n",
            "Downloading...\n",
            "From (original): https://drive.google.com/uc?id=1u91dVAGDJyrXrUs7_qRjULCZiB-IubPu\n",
            "From (redirected): https://drive.google.com/uc?id=1u91dVAGDJyrXrUs7_qRjULCZiB-IubPu&confirm=t&uuid=f986e5bd-07f1-4902-9209-0838559e7a57\n",
            "To: /content/trabajo_final/common/__pycache__/Clases.cpython-311.pyc\n",
            "100% 5.04k/5.04k [00:00<00:00, 13.7MB/s]\n",
            "Downloading...\n",
            "From (original): https://drive.google.com/uc?id=1tiJY-uIaSGndqNvma7jJzRIyv3NUBbFB\n",
            "From (redirected): https://drive.google.com/uc?id=1tiJY-uIaSGndqNvma7jJzRIyv3NUBbFB&confirm=t&uuid=ddaa8b80-eafb-49c0-8b05-30e3b7629c4a\n",
            "To: /content/trabajo_final/common/__pycache__/Funciones_generacion.cpython-38.pyc\n",
            "100% 4.32k/4.32k [00:00<00:00, 10.4MB/s]\n",
            "Downloading...\n",
            "From (original): https://drive.google.com/uc?id=1tWDEFzVLgqYa8lIpdO1u8HppXYXfVRzF\n",
            "From (redirected): https://drive.google.com/uc?id=1tWDEFzVLgqYa8lIpdO1u8HppXYXfVRzF&confirm=t&uuid=5bc2a102-c43a-49e1-917f-06201d492050\n",
            "To: /content/trabajo_final/common/__pycache__/Funciones_generacion.cpython-311.pyc\n",
            "100% 8.32k/8.32k [00:00<00:00, 4.79MB/s]\n",
            "Downloading...\n",
            "From (original): https://drive.google.com/uc?id=1to4UQhuxkkICrX9qJPgped1sBO_LS9l3\n",
            "From (redirected): https://drive.google.com/uc?id=1to4UQhuxkkICrX9qJPgped1sBO_LS9l3&confirm=t&uuid=68cbafb6-1876-4263-8b2f-fda9f07d995c\n",
            "To: /content/trabajo_final/common/__pycache__/Parametrizacion.cpython-38.pyc\n",
            "100% 4.37k/4.37k [00:00<00:00, 11.8MB/s]\n",
            "Downloading...\n",
            "From (original): https://drive.google.com/uc?id=1rj79bJpDUtB379anDUSmzWyZ1JHylVrX\n",
            "From (redirected): https://drive.google.com/uc?id=1rj79bJpDUtB379anDUSmzWyZ1JHylVrX&confirm=t&uuid=6d0e1651-e5b6-4dd4-94af-86047397c56a\n",
            "To: /content/trabajo_final/common/Archivos.py\n",
            "100% 690/690 [00:00<00:00, 2.65MB/s]\n",
            "Downloading...\n",
            "From (original): https://drive.google.com/uc?id=1rkCbba7Dwy4GkWxDEWao_ZpPtLWwVCSK\n",
            "From (redirected): https://drive.google.com/uc?id=1rkCbba7Dwy4GkWxDEWao_ZpPtLWwVCSK&confirm=t&uuid=2bc750d6-3de7-4ef5-bc80-1e8da6e362de\n",
            "To: /content/trabajo_final/common/Clases.py\n",
            "100% 6.75k/6.75k [00:00<00:00, 16.5MB/s]\n",
            "Downloading...\n",
            "From (original): https://drive.google.com/uc?id=1rgUnJRitu1IZX_FL1-Tyvxy4yWFYawdU\n",
            "From (redirected): https://drive.google.com/uc?id=1rgUnJRitu1IZX_FL1-Tyvxy4yWFYawdU&confirm=t&uuid=c16048d1-9f49-430b-8045-f185c61093df\n",
            "To: /content/trabajo_final/common/Funciones_generacion.py\n",
            "100% 16.1k/16.1k [00:00<00:00, 48.1MB/s]\n",
            "Downloading...\n",
            "From (original): https://drive.google.com/uc?id=1rVzDAp4Hgm9JNBKXPHV2FIeHrbUyoS5F\n",
            "From (redirected): https://drive.google.com/uc?id=1rVzDAp4Hgm9JNBKXPHV2FIeHrbUyoS5F&confirm=t&uuid=3289c17e-6293-4868-8408-b70f45c7cd06\n",
            "To: /content/trabajo_final/common/Parametrizacion.py\n",
            "100% 13.3k/13.3k [00:00<00:00, 35.0MB/s]\n",
            "Downloading...\n",
            "From (original): https://drive.google.com/uc?id=1n2OXsfJyQj2S7xRzCQ2015AsQ6TrOX7i\n",
            "From (redirected): https://drive.google.com/uc?id=1n2OXsfJyQj2S7xRzCQ2015AsQ6TrOX7i&confirm=t&uuid=3b2f12bd-4188-4b24-ad51-a07d41f0e2ca\n",
            "To: /content/trabajo_final/Generador_vuelos_main.py\n",
            "100% 778/778 [00:00<00:00, 3.10MB/s]\n",
            "Downloading...\n",
            "From: https://drive.google.com/uc?id=1mCTpZGgsQxDcN80uXwnp8WRVtAzq0ArO\n",
            "To: /content/trabajo_final/info_vuelos.txt\n",
            "100% 6.24k/6.24k [00:00<00:00, 19.6MB/s]\n",
            "Downloading...\n",
            "From: https://drive.google.com/uc?id=1mG0Ru9F4qWq4wOoNTZ7K8B4_Ivj0K3Cx\n",
            "To: /content/trabajo_final/Readme.txt\n",
            "100% 1.53k/1.53k [00:00<00:00, 4.70MB/s]\n",
            "Downloading...\n",
            "From: https://drive.google.com/uc?id=1mGdxPc0HdzpXL-l6Y6rJlQBFzeWKKwVi\n",
            "To: /content/trabajo_final/trabajo final notas.txt\n",
            "100% 734/734 [00:00<00:00, 2.68MB/s]\n",
            "Downloading...\n",
            "From: https://drive.google.com/uc?id=1mA8R8pRSlZ9bF1l5qpxXkdh08iqn1AIc\n",
            "To: /content/trabajo_final/Trabajo_Final.docx\n",
            "100% 15.9k/15.9k [00:00<00:00, 22.9MB/s]\n",
            "Downloading...\n",
            "From: https://drive.google.com/uc?id=1vh-zotbxDokqw-dxm6k-bvb0CNAlBuIA\n",
            "To: /content/trabajo_final/vuelos.csv\n",
            "100% 85.9k/85.9k [00:00<00:00, 108MB/s]\n",
            "Download completed\n"
          ]
        }
      ],
      "source": [
        "!gdown https://drive.google.com/drive/folders/1jYiiKrb3X-Oj4v1JNCH2L-BYnZVj6185?usp=sharing --folder"
      ]
    },
    {
      "cell_type": "code",
      "source": [
        "os.getcwd()\n",
        "%cd /content/trabajo_final/"
      ],
      "metadata": {
        "colab": {
          "base_uri": "https://localhost:8080/"
        },
        "id": "8P0EZJjPlf9_",
        "outputId": "1e5e486e-b68a-44b0-862d-36b7541dcde6"
      },
      "execution_count": 4,
      "outputs": [
        {
          "output_type": "stream",
          "name": "stdout",
          "text": [
            "/content/trabajo_final\n"
          ]
        }
      ]
    },
    {
      "cell_type": "code",
      "source": [
        "!python Generador_vuelos_main.py\n",
        "archivo_path= \"vuelos.csv\""
      ],
      "metadata": {
        "colab": {
          "base_uri": "https://localhost:8080/"
        },
        "id": "C6duq6GVl7gr",
        "outputId": "64293077-af42-4e0d-d36f-03582db1aed8"
      },
      "execution_count": 5,
      "outputs": [
        {
          "output_type": "stream",
          "name": "stdout",
          "text": [
            "\n",
            "El archivo de vuelos ha sido generado \n",
            "\n",
            "vuelos.csv  ha sido generado en el directorio del programa python:  /content/trabajo_final\n"
          ]
        }
      ]
    },
    {
      "cell_type": "code",
      "source": [
        "df = pd.read_csv(archivo_path)\n",
        "df.describe()"
      ],
      "metadata": {
        "colab": {
          "base_uri": "https://localhost:8080/",
          "height": 300
        },
        "id": "bYMVtobamc3R",
        "outputId": "778de67e-23ab-484b-d143-90261aeb5453"
      },
      "execution_count": 6,
      "outputs": [
        {
          "output_type": "execute_result",
          "data": {
            "text/plain": [
              "                id  plazas_totales  plazas_disponibles  \\\n",
              "count   685.000000      685.000000          685.000000   \n",
              "mean   1704.000000      281.013139          102.671533   \n",
              "std     197.886752       67.708837           75.449017   \n",
              "min    1362.000000      180.000000            0.000000   \n",
              "25%    1533.000000      180.000000           29.000000   \n",
              "50%    1704.000000      290.000000           98.000000   \n",
              "75%    1875.000000      348.000000          165.000000   \n",
              "max    2046.000000      348.000000          289.000000   \n",
              "\n",
              "       plazas_busisness_totales  plazas_business_disponibles  \\\n",
              "count                685.000000                   685.000000   \n",
              "mean                  40.963504                    15.218978   \n",
              "std                    8.053557                    10.770815   \n",
              "min                   30.000000                     0.000000   \n",
              "25%                   30.000000                     4.000000   \n",
              "50%                   40.000000                    16.000000   \n",
              "75%                   50.000000                    24.000000   \n",
              "max                   50.000000                    42.000000   \n",
              "\n",
              "       plazas_turista_totales  plazas_turista_disponibles  precio_business  \\\n",
              "count              685.000000                  685.000000       685.000000   \n",
              "mean               240.049635                   87.452555       800.314394   \n",
              "std                 59.807321                   65.214286       300.811407   \n",
              "min                150.000000                    0.000000       330.000000   \n",
              "25%                150.000000                   24.000000       561.040000   \n",
              "50%                250.000000                   82.000000       725.270000   \n",
              "75%                298.000000                  141.000000      1052.880000   \n",
              "max                298.000000                  250.000000      1650.610000   \n",
              "\n",
              "       precio_turista  \n",
              "count      685.000000  \n",
              "mean       388.925869  \n",
              "std        181.579664  \n",
              "min        132.000000  \n",
              "25%        245.980000  \n",
              "50%        346.080000  \n",
              "75%        483.800000  \n",
              "max        978.610000  "
            ],
            "text/html": [
              "\n",
              "  <div id=\"df-73e8c581-b1cd-4ef6-9e23-b8d6713ef6b5\" class=\"colab-df-container\">\n",
              "    <div>\n",
              "<style scoped>\n",
              "    .dataframe tbody tr th:only-of-type {\n",
              "        vertical-align: middle;\n",
              "    }\n",
              "\n",
              "    .dataframe tbody tr th {\n",
              "        vertical-align: top;\n",
              "    }\n",
              "\n",
              "    .dataframe thead th {\n",
              "        text-align: right;\n",
              "    }\n",
              "</style>\n",
              "<table border=\"1\" class=\"dataframe\">\n",
              "  <thead>\n",
              "    <tr style=\"text-align: right;\">\n",
              "      <th></th>\n",
              "      <th>id</th>\n",
              "      <th>plazas_totales</th>\n",
              "      <th>plazas_disponibles</th>\n",
              "      <th>plazas_busisness_totales</th>\n",
              "      <th>plazas_business_disponibles</th>\n",
              "      <th>plazas_turista_totales</th>\n",
              "      <th>plazas_turista_disponibles</th>\n",
              "      <th>precio_business</th>\n",
              "      <th>precio_turista</th>\n",
              "    </tr>\n",
              "  </thead>\n",
              "  <tbody>\n",
              "    <tr>\n",
              "      <th>count</th>\n",
              "      <td>685.000000</td>\n",
              "      <td>685.000000</td>\n",
              "      <td>685.000000</td>\n",
              "      <td>685.000000</td>\n",
              "      <td>685.000000</td>\n",
              "      <td>685.000000</td>\n",
              "      <td>685.000000</td>\n",
              "      <td>685.000000</td>\n",
              "      <td>685.000000</td>\n",
              "    </tr>\n",
              "    <tr>\n",
              "      <th>mean</th>\n",
              "      <td>1704.000000</td>\n",
              "      <td>281.013139</td>\n",
              "      <td>102.671533</td>\n",
              "      <td>40.963504</td>\n",
              "      <td>15.218978</td>\n",
              "      <td>240.049635</td>\n",
              "      <td>87.452555</td>\n",
              "      <td>800.314394</td>\n",
              "      <td>388.925869</td>\n",
              "    </tr>\n",
              "    <tr>\n",
              "      <th>std</th>\n",
              "      <td>197.886752</td>\n",
              "      <td>67.708837</td>\n",
              "      <td>75.449017</td>\n",
              "      <td>8.053557</td>\n",
              "      <td>10.770815</td>\n",
              "      <td>59.807321</td>\n",
              "      <td>65.214286</td>\n",
              "      <td>300.811407</td>\n",
              "      <td>181.579664</td>\n",
              "    </tr>\n",
              "    <tr>\n",
              "      <th>min</th>\n",
              "      <td>1362.000000</td>\n",
              "      <td>180.000000</td>\n",
              "      <td>0.000000</td>\n",
              "      <td>30.000000</td>\n",
              "      <td>0.000000</td>\n",
              "      <td>150.000000</td>\n",
              "      <td>0.000000</td>\n",
              "      <td>330.000000</td>\n",
              "      <td>132.000000</td>\n",
              "    </tr>\n",
              "    <tr>\n",
              "      <th>25%</th>\n",
              "      <td>1533.000000</td>\n",
              "      <td>180.000000</td>\n",
              "      <td>29.000000</td>\n",
              "      <td>30.000000</td>\n",
              "      <td>4.000000</td>\n",
              "      <td>150.000000</td>\n",
              "      <td>24.000000</td>\n",
              "      <td>561.040000</td>\n",
              "      <td>245.980000</td>\n",
              "    </tr>\n",
              "    <tr>\n",
              "      <th>50%</th>\n",
              "      <td>1704.000000</td>\n",
              "      <td>290.000000</td>\n",
              "      <td>98.000000</td>\n",
              "      <td>40.000000</td>\n",
              "      <td>16.000000</td>\n",
              "      <td>250.000000</td>\n",
              "      <td>82.000000</td>\n",
              "      <td>725.270000</td>\n",
              "      <td>346.080000</td>\n",
              "    </tr>\n",
              "    <tr>\n",
              "      <th>75%</th>\n",
              "      <td>1875.000000</td>\n",
              "      <td>348.000000</td>\n",
              "      <td>165.000000</td>\n",
              "      <td>50.000000</td>\n",
              "      <td>24.000000</td>\n",
              "      <td>298.000000</td>\n",
              "      <td>141.000000</td>\n",
              "      <td>1052.880000</td>\n",
              "      <td>483.800000</td>\n",
              "    </tr>\n",
              "    <tr>\n",
              "      <th>max</th>\n",
              "      <td>2046.000000</td>\n",
              "      <td>348.000000</td>\n",
              "      <td>289.000000</td>\n",
              "      <td>50.000000</td>\n",
              "      <td>42.000000</td>\n",
              "      <td>298.000000</td>\n",
              "      <td>250.000000</td>\n",
              "      <td>1650.610000</td>\n",
              "      <td>978.610000</td>\n",
              "    </tr>\n",
              "  </tbody>\n",
              "</table>\n",
              "</div>\n",
              "    <div class=\"colab-df-buttons\">\n",
              "\n",
              "  <div class=\"colab-df-container\">\n",
              "    <button class=\"colab-df-convert\" onclick=\"convertToInteractive('df-73e8c581-b1cd-4ef6-9e23-b8d6713ef6b5')\"\n",
              "            title=\"Convert this dataframe to an interactive table.\"\n",
              "            style=\"display:none;\">\n",
              "\n",
              "  <svg xmlns=\"http://www.w3.org/2000/svg\" height=\"24px\" viewBox=\"0 -960 960 960\">\n",
              "    <path d=\"M120-120v-720h720v720H120Zm60-500h600v-160H180v160Zm220 220h160v-160H400v160Zm0 220h160v-160H400v160ZM180-400h160v-160H180v160Zm440 0h160v-160H620v160ZM180-180h160v-160H180v160Zm440 0h160v-160H620v160Z\"/>\n",
              "  </svg>\n",
              "    </button>\n",
              "\n",
              "  <style>\n",
              "    .colab-df-container {\n",
              "      display:flex;\n",
              "      gap: 12px;\n",
              "    }\n",
              "\n",
              "    .colab-df-convert {\n",
              "      background-color: #E8F0FE;\n",
              "      border: none;\n",
              "      border-radius: 50%;\n",
              "      cursor: pointer;\n",
              "      display: none;\n",
              "      fill: #1967D2;\n",
              "      height: 32px;\n",
              "      padding: 0 0 0 0;\n",
              "      width: 32px;\n",
              "    }\n",
              "\n",
              "    .colab-df-convert:hover {\n",
              "      background-color: #E2EBFA;\n",
              "      box-shadow: 0px 1px 2px rgba(60, 64, 67, 0.3), 0px 1px 3px 1px rgba(60, 64, 67, 0.15);\n",
              "      fill: #174EA6;\n",
              "    }\n",
              "\n",
              "    .colab-df-buttons div {\n",
              "      margin-bottom: 4px;\n",
              "    }\n",
              "\n",
              "    [theme=dark] .colab-df-convert {\n",
              "      background-color: #3B4455;\n",
              "      fill: #D2E3FC;\n",
              "    }\n",
              "\n",
              "    [theme=dark] .colab-df-convert:hover {\n",
              "      background-color: #434B5C;\n",
              "      box-shadow: 0px 1px 3px 1px rgba(0, 0, 0, 0.15);\n",
              "      filter: drop-shadow(0px 1px 2px rgba(0, 0, 0, 0.3));\n",
              "      fill: #FFFFFF;\n",
              "    }\n",
              "  </style>\n",
              "\n",
              "    <script>\n",
              "      const buttonEl =\n",
              "        document.querySelector('#df-73e8c581-b1cd-4ef6-9e23-b8d6713ef6b5 button.colab-df-convert');\n",
              "      buttonEl.style.display =\n",
              "        google.colab.kernel.accessAllowed ? 'block' : 'none';\n",
              "\n",
              "      async function convertToInteractive(key) {\n",
              "        const element = document.querySelector('#df-73e8c581-b1cd-4ef6-9e23-b8d6713ef6b5');\n",
              "        const dataTable =\n",
              "          await google.colab.kernel.invokeFunction('convertToInteractive',\n",
              "                                                    [key], {});\n",
              "        if (!dataTable) return;\n",
              "\n",
              "        const docLinkHtml = 'Like what you see? Visit the ' +\n",
              "          '<a target=\"_blank\" href=https://colab.research.google.com/notebooks/data_table.ipynb>data table notebook</a>'\n",
              "          + ' to learn more about interactive tables.';\n",
              "        element.innerHTML = '';\n",
              "        dataTable['output_type'] = 'display_data';\n",
              "        await google.colab.output.renderOutput(dataTable, element);\n",
              "        const docLink = document.createElement('div');\n",
              "        docLink.innerHTML = docLinkHtml;\n",
              "        element.appendChild(docLink);\n",
              "      }\n",
              "    </script>\n",
              "  </div>\n",
              "\n",
              "\n",
              "<div id=\"df-f48044c2-ec81-4cd7-a033-6ce2aaf6109a\">\n",
              "  <button class=\"colab-df-quickchart\" onclick=\"quickchart('df-f48044c2-ec81-4cd7-a033-6ce2aaf6109a')\"\n",
              "            title=\"Suggest charts\"\n",
              "            style=\"display:none;\">\n",
              "\n",
              "<svg xmlns=\"http://www.w3.org/2000/svg\" height=\"24px\"viewBox=\"0 0 24 24\"\n",
              "     width=\"24px\">\n",
              "    <g>\n",
              "        <path d=\"M19 3H5c-1.1 0-2 .9-2 2v14c0 1.1.9 2 2 2h14c1.1 0 2-.9 2-2V5c0-1.1-.9-2-2-2zM9 17H7v-7h2v7zm4 0h-2V7h2v10zm4 0h-2v-4h2v4z\"/>\n",
              "    </g>\n",
              "</svg>\n",
              "  </button>\n",
              "\n",
              "<style>\n",
              "  .colab-df-quickchart {\n",
              "      --bg-color: #E8F0FE;\n",
              "      --fill-color: #1967D2;\n",
              "      --hover-bg-color: #E2EBFA;\n",
              "      --hover-fill-color: #174EA6;\n",
              "      --disabled-fill-color: #AAA;\n",
              "      --disabled-bg-color: #DDD;\n",
              "  }\n",
              "\n",
              "  [theme=dark] .colab-df-quickchart {\n",
              "      --bg-color: #3B4455;\n",
              "      --fill-color: #D2E3FC;\n",
              "      --hover-bg-color: #434B5C;\n",
              "      --hover-fill-color: #FFFFFF;\n",
              "      --disabled-bg-color: #3B4455;\n",
              "      --disabled-fill-color: #666;\n",
              "  }\n",
              "\n",
              "  .colab-df-quickchart {\n",
              "    background-color: var(--bg-color);\n",
              "    border: none;\n",
              "    border-radius: 50%;\n",
              "    cursor: pointer;\n",
              "    display: none;\n",
              "    fill: var(--fill-color);\n",
              "    height: 32px;\n",
              "    padding: 0;\n",
              "    width: 32px;\n",
              "  }\n",
              "\n",
              "  .colab-df-quickchart:hover {\n",
              "    background-color: var(--hover-bg-color);\n",
              "    box-shadow: 0 1px 2px rgba(60, 64, 67, 0.3), 0 1px 3px 1px rgba(60, 64, 67, 0.15);\n",
              "    fill: var(--button-hover-fill-color);\n",
              "  }\n",
              "\n",
              "  .colab-df-quickchart-complete:disabled,\n",
              "  .colab-df-quickchart-complete:disabled:hover {\n",
              "    background-color: var(--disabled-bg-color);\n",
              "    fill: var(--disabled-fill-color);\n",
              "    box-shadow: none;\n",
              "  }\n",
              "\n",
              "  .colab-df-spinner {\n",
              "    border: 2px solid var(--fill-color);\n",
              "    border-color: transparent;\n",
              "    border-bottom-color: var(--fill-color);\n",
              "    animation:\n",
              "      spin 1s steps(1) infinite;\n",
              "  }\n",
              "\n",
              "  @keyframes spin {\n",
              "    0% {\n",
              "      border-color: transparent;\n",
              "      border-bottom-color: var(--fill-color);\n",
              "      border-left-color: var(--fill-color);\n",
              "    }\n",
              "    20% {\n",
              "      border-color: transparent;\n",
              "      border-left-color: var(--fill-color);\n",
              "      border-top-color: var(--fill-color);\n",
              "    }\n",
              "    30% {\n",
              "      border-color: transparent;\n",
              "      border-left-color: var(--fill-color);\n",
              "      border-top-color: var(--fill-color);\n",
              "      border-right-color: var(--fill-color);\n",
              "    }\n",
              "    40% {\n",
              "      border-color: transparent;\n",
              "      border-right-color: var(--fill-color);\n",
              "      border-top-color: var(--fill-color);\n",
              "    }\n",
              "    60% {\n",
              "      border-color: transparent;\n",
              "      border-right-color: var(--fill-color);\n",
              "    }\n",
              "    80% {\n",
              "      border-color: transparent;\n",
              "      border-right-color: var(--fill-color);\n",
              "      border-bottom-color: var(--fill-color);\n",
              "    }\n",
              "    90% {\n",
              "      border-color: transparent;\n",
              "      border-bottom-color: var(--fill-color);\n",
              "    }\n",
              "  }\n",
              "</style>\n",
              "\n",
              "  <script>\n",
              "    async function quickchart(key) {\n",
              "      const quickchartButtonEl =\n",
              "        document.querySelector('#' + key + ' button');\n",
              "      quickchartButtonEl.disabled = true;  // To prevent multiple clicks.\n",
              "      quickchartButtonEl.classList.add('colab-df-spinner');\n",
              "      try {\n",
              "        const charts = await google.colab.kernel.invokeFunction(\n",
              "            'suggestCharts', [key], {});\n",
              "      } catch (error) {\n",
              "        console.error('Error during call to suggestCharts:', error);\n",
              "      }\n",
              "      quickchartButtonEl.classList.remove('colab-df-spinner');\n",
              "      quickchartButtonEl.classList.add('colab-df-quickchart-complete');\n",
              "    }\n",
              "    (() => {\n",
              "      let quickchartButtonEl =\n",
              "        document.querySelector('#df-f48044c2-ec81-4cd7-a033-6ce2aaf6109a button');\n",
              "      quickchartButtonEl.style.display =\n",
              "        google.colab.kernel.accessAllowed ? 'block' : 'none';\n",
              "    })();\n",
              "  </script>\n",
              "</div>\n",
              "    </div>\n",
              "  </div>\n"
            ],
            "application/vnd.google.colaboratory.intrinsic+json": {
              "type": "dataframe",
              "summary": "{\n  \"name\": \"df\",\n  \"rows\": 8,\n  \"fields\": [\n    {\n      \"column\": \"id\",\n      \"properties\": {\n        \"dtype\": \"number\",\n        \"std\": 632.6953115836856,\n        \"min\": 197.88675212521596,\n        \"max\": 2046.0,\n        \"num_unique_values\": 7,\n        \"samples\": [\n          685.0,\n          1704.0,\n          1875.0\n        ],\n        \"semantic_type\": \"\",\n        \"description\": \"\"\n      }\n    },\n    {\n      \"column\": \"plazas_totales\",\n      \"properties\": {\n        \"dtype\": \"number\",\n        \"std\": 183.61500301234202,\n        \"min\": 67.70883745293382,\n        \"max\": 685.0,\n        \"num_unique_values\": 6,\n        \"samples\": [\n          685.0,\n          281.0131386861314,\n          348.0\n        ],\n        \"semantic_type\": \"\",\n        \"description\": \"\"\n      }\n    },\n    {\n      \"column\": \"plazas_disponibles\",\n      \"properties\": {\n        \"dtype\": \"number\",\n        \"std\": 222.31395991776188,\n        \"min\": 0.0,\n        \"max\": 685.0,\n        \"num_unique_values\": 8,\n        \"samples\": [\n          102.67153284671532,\n          98.0,\n          685.0\n        ],\n        \"semantic_type\": \"\",\n        \"description\": \"\"\n      }\n    },\n    {\n      \"column\": \"plazas_busisness_totales\",\n      \"properties\": {\n        \"dtype\": \"number\",\n        \"std\": 230.00602003188223,\n        \"min\": 8.053556803063893,\n        \"max\": 685.0,\n        \"num_unique_values\": 6,\n        \"samples\": [\n          685.0,\n          40.96350364963504,\n          50.0\n        ],\n        \"semantic_type\": \"\",\n        \"description\": \"\"\n      }\n    },\n    {\n      \"column\": \"plazas_business_disponibles\",\n      \"properties\": {\n        \"dtype\": \"number\",\n        \"std\": 236.88017960956208,\n        \"min\": 0.0,\n        \"max\": 685.0,\n        \"num_unique_values\": 8,\n        \"samples\": [\n          15.218978102189782,\n          16.0,\n          685.0\n        ],\n        \"semantic_type\": \"\",\n        \"description\": \"\"\n      }\n    },\n    {\n      \"column\": \"plazas_turista_totales\",\n      \"properties\": {\n        \"dtype\": \"number\",\n        \"std\": 188.21143960382014,\n        \"min\": 59.807321135596055,\n        \"max\": 685.0,\n        \"num_unique_values\": 6,\n        \"samples\": [\n          685.0,\n          240.04963503649634,\n          298.0\n        ],\n        \"semantic_type\": \"\",\n        \"description\": \"\"\n      }\n    },\n    {\n      \"column\": \"plazas_turista_disponibles\",\n      \"properties\": {\n        \"dtype\": \"number\",\n        \"std\": 223.01182078945354,\n        \"min\": 0.0,\n        \"max\": 685.0,\n        \"num_unique_values\": 8,\n        \"samples\": [\n          87.45255474452554,\n          82.0,\n          685.0\n        ],\n        \"semantic_type\": \"\",\n        \"description\": \"\"\n      }\n    },\n    {\n      \"column\": \"precio_business\",\n      \"properties\": {\n        \"dtype\": \"number\",\n        \"std\": 434.68815050926855,\n        \"min\": 300.8114065350075,\n        \"max\": 1650.61,\n        \"num_unique_values\": 8,\n        \"samples\": [\n          800.3143941605839,\n          725.27,\n          685.0\n        ],\n        \"semantic_type\": \"\",\n        \"description\": \"\"\n      }\n    },\n    {\n      \"column\": \"precio_turista\",\n      \"properties\": {\n        \"dtype\": \"number\",\n        \"std\": 283.34773151073824,\n        \"min\": 132.0,\n        \"max\": 978.61,\n        \"num_unique_values\": 8,\n        \"samples\": [\n          388.92586861313873,\n          346.08,\n          685.0\n        ],\n        \"semantic_type\": \"\",\n        \"description\": \"\"\n      }\n    }\n  ]\n}"
            }
          },
          "metadata": {},
          "execution_count": 6
        }
      ]
    },
    {
      "cell_type": "markdown",
      "source": [
        "# Creación del asistente de reservas de vuelos\n",
        "\n",
        "Necesitamos crear un modelo de lenguaje que genere transcripciones para la reserva de un vuelo con la información sobre el vuelo (fecha, aeropuerto de salida y llegada, asientos que se van a reservar)\n",
        "\n",
        "Para esta tarea vamos a necesitar:\n",
        "\n",
        "* Generar un modelo de lenguaje con las caracteristicas deseadas\n",
        "* Acceder a los datos de vuelo\n",
        "* Aportar los datos de vuelos al modelo de lenguaje"
      ],
      "metadata": {
        "id": "JkeQga6MrgDU"
      }
    },
    {
      "cell_type": "code",
      "source": [
        "key= userdata.get('OPENAI_API_KEY')\n",
        "\n",
        "os.environ['OPENAI_API_KEY'] = key"
      ],
      "metadata": {
        "id": "9hN0flv4r-Co"
      },
      "execution_count": 7,
      "outputs": []
    },
    {
      "cell_type": "markdown",
      "source": [
        "## Generación de la información del vuelo con chat"
      ],
      "metadata": {
        "id": "HMB1ZDVzU4UF"
      }
    },
    {
      "cell_type": "markdown",
      "source": [
        "generamos transcripciones"
      ],
      "metadata": {
        "id": "DiwDybOXsFPg"
      }
    },
    {
      "cell_type": "code",
      "source": [
        "\n",
        "template_1=\"\"\"\n",
        "\n",
        "Actua como un asistente para reservar vuelos con precios estandarizados.\n",
        "\n",
        "Debes crear una transcripción de chat donde un cliente de nombre {cliente} trata\n",
        "de reservar unos vuelos en nuestra aerolinia desde salida {salida} a un\n",
        "destino {destino}. El asistente ofrece fechas cercanas a cuando el clienter quiere volar\n",
        "{fecha} y ofrece los horarios de salida y los precios de los asientos.\n",
        "El cliente decide el tipo de asiento {asiento} para un numero de personas {n_pasajeros}.\n",
        "\n",
        "El asistente debe comprobar si existe ese vuelo en ese dia y en caso contrario\n",
        "ofrecer al cliente alternativas\n",
        "\n",
        "\n",
        "El chat debe tener la siguiente estructura:\n",
        "\n",
        "Cliente: Buenos Dias, cuando hay vuelos desde {salida} a {destino} cerca de la fecha {fecha}\n",
        "Asistente:Buenos dias {cliente}. Tenemos vuelos proximos los siguientes dias (lista de fechas proximas a {fecha}) junto con los horarios de salida\n",
        "Cliente: me interesa el vuelo del dia (cualquier dia de la lista)\n",
        "Asistente: el precio del billete business para ese dia es(precio), y el precio turista es(precio)\n",
        "Cliente: {n_pasajeros} asientos en clase {asiento}, por favor\n",
        "etc\n",
        "\n",
        "\"\"\"\n",
        "\n",
        "template_2=\"\"\"\n",
        "\n",
        "Actua como un asistente para reservar vuelos con precios estandarizados.\n",
        "\n",
        "Debes crear una transcripción de chat donde un cliente de nombre Marcelo trata\n",
        "de reservar unos vuelos desde Madrid  a Belgica en 15-04-2025 y quiere un\n",
        "asiento turista para 2 pasajeros\n",
        "\n",
        "\"\"\"\n",
        "\n",
        "prompt = ChatPromptTemplate.from_template(template=template_1)\n",
        "model = ChatOpenAI()\n",
        "output_parser = StrOutputParser()\n",
        "\n",
        "\n",
        "chain = prompt | model | output_parser\n",
        "\n",
        "entrada={\"cliente\": \"Felipe Sanchez\",\"salida\":\"Cordoba\",\"destino\":\"Badajoz\",\"fecha\": \"2024-04-14\", \"asiento\":\"turista\", \"n_pasajeros\":\"2\"}\n",
        "\n",
        "respuesta_1= chain.invoke(entrada)\n",
        "print(respuesta_1)"
      ],
      "metadata": {
        "colab": {
          "base_uri": "https://localhost:8080/"
        },
        "id": "ITOY9Oxr2LQJ",
        "outputId": "0bffbda7-0b2d-451f-d3b7-22d2a1a7542d"
      },
      "execution_count": 8,
      "outputs": [
        {
          "output_type": "stream",
          "name": "stderr",
          "text": [
            "/usr/local/lib/python3.10/dist-packages/langchain_core/_api/deprecation.py:117: LangChainDeprecationWarning: The class `langchain_community.chat_models.openai.ChatOpenAI` was deprecated in langchain-community 0.0.10 and will be removed in 0.2.0. An updated version of the class exists in the langchain-openai package and should be used instead. To use it run `pip install -U langchain-openai` and import as `from langchain_openai import ChatOpenAI`.\n",
            "  warn_deprecated(\n"
          ]
        },
        {
          "output_type": "stream",
          "name": "stdout",
          "text": [
            "Cliente: Buenos Dias, cuando hay vuelos desde Cordoba a Badajoz cerca de la fecha 2024-04-14\n",
            "\n",
            "Asistente: Buenos dias Felipe Sanchez. Tenemos vuelos proximos los siguientes dias 2024-04-13, 2024-04-15 y 2024-04-16 junto con los horarios de salida. ¿Le interesa alguno de estos dias?\n",
            "\n",
            "Cliente: Me interesa el vuelo del dia 2024-04-15\n",
            "\n",
            "Asistente: El precio del billete business para ese dia es $500, y el precio turista es $250. ¿Cuantos asientos en clase turista desea reservar?\n",
            "\n",
            "Cliente: Quiero reservar 2 asientos en clase turista, por favor.\n",
            "\n",
            "Asistente: Perfecto, los dos asientos en clase turista para el vuelo del dia 2024-04-15 han sido reservados. ¿Hay algo mas en lo que pueda ayudarte?\n"
          ]
        }
      ]
    },
    {
      "cell_type": "markdown",
      "source": [
        "Podemos llevar un registro del chat para tenerlo en cuenta en futuras conversaciones"
      ],
      "metadata": {
        "id": "7tjEXAnuGPSr"
      }
    },
    {
      "cell_type": "code",
      "source": [
        "chat_history = ChatMessageHistory()"
      ],
      "metadata": {
        "id": "81uIleJ1DOAg"
      },
      "execution_count": 9,
      "outputs": []
    },
    {
      "cell_type": "code",
      "source": [
        "chat_history.add_message(respuesta_1)\n",
        "len(chat_history.messages)"
      ],
      "metadata": {
        "colab": {
          "base_uri": "https://localhost:8080/"
        },
        "id": "7KwHqbOPEE85",
        "outputId": "98cf7c14-672d-44a1-d8ea-fe840d41232e"
      },
      "execution_count": 10,
      "outputs": [
        {
          "output_type": "execute_result",
          "data": {
            "text/plain": [
              "1"
            ]
          },
          "metadata": {},
          "execution_count": 10
        }
      ]
    },
    {
      "cell_type": "code",
      "source": [
        "print(chat_history.messages[0])"
      ],
      "metadata": {
        "colab": {
          "base_uri": "https://localhost:8080/"
        },
        "id": "g0XsNPb3D9tR",
        "outputId": "032f8907-3632-4058-e1f9-99ce31a9dbbe"
      },
      "execution_count": 11,
      "outputs": [
        {
          "output_type": "stream",
          "name": "stdout",
          "text": [
            "Cliente: Buenos Dias, cuando hay vuelos desde Cordoba a Badajoz cerca de la fecha 2024-04-14\n",
            "\n",
            "Asistente: Buenos dias Felipe Sanchez. Tenemos vuelos proximos los siguientes dias 2024-04-13, 2024-04-15 y 2024-04-16 junto con los horarios de salida. ¿Le interesa alguno de estos dias?\n",
            "\n",
            "Cliente: Me interesa el vuelo del dia 2024-04-15\n",
            "\n",
            "Asistente: El precio del billete business para ese dia es $500, y el precio turista es $250. ¿Cuantos asientos en clase turista desea reservar?\n",
            "\n",
            "Cliente: Quiero reservar 2 asientos en clase turista, por favor.\n",
            "\n",
            "Asistente: Perfecto, los dos asientos en clase turista para el vuelo del dia 2024-04-15 han sido reservados. ¿Hay algo mas en lo que pueda ayudarte?\n"
          ]
        }
      ]
    },
    {
      "cell_type": "markdown",
      "source": [
        "Vamos a añadir más mensajes con más reservas de vuelo"
      ],
      "metadata": {
        "id": "OZGgjpftr9zB"
      }
    },
    {
      "cell_type": "code",
      "source": [
        "\n",
        "\n",
        "prompt = ChatPromptTemplate.from_template(template=template_1)\n",
        "model = ChatOpenAI()\n",
        "output_parser = StrOutputParser()\n",
        "\n",
        "chain = prompt | model | output_parser\n",
        "\n",
        "entrada={\"cliente\": \"Antonio Garcia\",\"salida\":\"Madrid\",\"destino\":\"Tokio\",\"fecha\": \"2024-04-10\", \"asiento\":\"turista\", \"n_pasajeros\":\"1\"}\n",
        "\n",
        "respuesta_2= chain.invoke(entrada)\n",
        "chat_history.add_message(respuesta_2)\n",
        "print(chat_history.messages[1])"
      ],
      "metadata": {
        "colab": {
          "base_uri": "https://localhost:8080/"
        },
        "id": "Lb5PsDtDsElt",
        "outputId": "b6bf30ea-4324-4d8d-9fb5-56c5b67aacfb"
      },
      "execution_count": 12,
      "outputs": [
        {
          "output_type": "stream",
          "name": "stdout",
          "text": [
            "Cliente: Buenos Dias, cuando hay vuelos desde Madrid a Tokio cerca de la fecha 2024-04-10\n",
            "\n",
            "Asistente: Buenos días Antonio Garcia. Tenemos vuelos próximos los siguientes días: \n",
            "- 2024-04-09 a las 10:00\n",
            "- 2024-04-11 a las 09:30\n",
            "- 2024-04-13 a las 11:00\n",
            "\n",
            "Cliente: Me interesa el vuelo del día 2024-04-11\n",
            "\n",
            "Asistente: El precio del billete business para ese día es 1500 euros, y el precio turista es 800 euros\n",
            "\n",
            "Cliente: Quiero 1 asiento en clase turista, por favor\n",
            "\n",
            "Asistente: Perfecto, su reserva para el vuelo de Madrid a Tokio el 2024-04-11 a las 09:30 en clase turista ha sido confirmada. El precio total es de 800 euros. ¿Hay algo más en lo que pueda ayudarte?\n"
          ]
        }
      ]
    },
    {
      "cell_type": "code",
      "source": [
        "template_no_vuelo=\"\"\"\n",
        "\n",
        "Actua como un asistente para reservar vuelos con precios estandarizados.\n",
        "\n",
        "Debes crear una transcripción de chat donde un cliente de nombre {cliente} trata\n",
        "de reservar unos vuelos en nuestra aerolinia desde salida {salida} a un\n",
        "destino {destino} El cliente decide el tipo de asiento {asiento} para un numero de personas {n_pasajeros}.\n",
        ". El clientequiere volar en la fecha {fecha}. Sin embargo,\n",
        "no existen vuelos disponibles con las caracteristicas solicitadas en esa fecha.\n",
        "El asistente motiva al cliente a buscar alternativas\n",
        "\n",
        "El asistente debe comprobar si existe ese vuelo en ese dia y en caso contrario\n",
        "ofrecer al cliente alternativas\n",
        "\n",
        "\n",
        "El chat debe tener la siguiente estructura:\n",
        "\n",
        "Cliente: Buenos Dias, quiero voalr desde {salida} a {destino} en la fecha {fecha}, {n_pasajeros} asientos en clase {asiento}, por favor\n",
        "Asistente:Buenos dias {cliente}.No tenemos vuelos disponibles de esas caracteristicas en la fecha {fecha}. Por favor, elija otra fecha u otro vuelo\n",
        "Cliente: De acuerdo, gracias\n",
        "\n",
        "\"\"\"\n",
        "\n",
        "prompt = ChatPromptTemplate.from_template(template=template_no_vuelo)\n",
        "model = ChatOpenAI()\n",
        "output_parser = StrOutputParser()\n",
        "\n",
        "chain = prompt | model | output_parser\n",
        "\n",
        "entrada={\"cliente\": \"Lucia Ruiz\",\"salida\":\"Madrid\",\"destino\":\"Tokio\",\"fecha\": \"2024-04-11\", \"asiento\":\"turista\", \"n_pasajeros\":\"1\"}\n",
        "\n",
        "respuesta_no_vuelo= chain.invoke(entrada)\n",
        "chat_history.add_message(respuesta_no_vuelo)"
      ],
      "metadata": {
        "id": "yip-J4UE79ok"
      },
      "execution_count": 13,
      "outputs": []
    },
    {
      "cell_type": "code",
      "source": [
        "print(chat_history.messages[2])"
      ],
      "metadata": {
        "colab": {
          "base_uri": "https://localhost:8080/"
        },
        "id": "Yvn67uDs8ucG",
        "outputId": "b88a981a-ab4f-4639-fbc8-f7c0ad26fe7c"
      },
      "execution_count": 14,
      "outputs": [
        {
          "output_type": "stream",
          "name": "stdout",
          "text": [
            "Cliente: Buenos Dias, quiero voalr desde Madrid a Tokio en la fecha 2024-04-11, 1 asientos en clase turista, por favor\n",
            "\n",
            "Asistente: Buenos dias Lucia Ruiz. No tenemos vuelos disponibles de esas caracteristicas en la fecha 2024-04-11. Por favor, elija otra fecha u otro vuelo\n",
            "\n",
            "Cliente: De acuerdo, gracias\n"
          ]
        }
      ]
    },
    {
      "cell_type": "code",
      "source": [
        "template_vuelo_bonito=\"\"\"\n",
        "\n",
        "Actua como un asistente para reservar vuelos con precios estandarizados.\n",
        "\n",
        "Debes crear una transcripción de chat donde un cliente de nombre {cliente} trata\n",
        "de reservar unos vuelos en nuestra aerolinia desde salida {salida} a un\n",
        "destino {destino}. El asistente tiene vuelos en la fecha en la que el cliente\n",
        "quiere volar {fecha} y ofrece los horarios de salida y los precios de los asientos.\n",
        "El cliente decide el tipo de asiento {asiento} para un numero de personas {n_pasajeros}.\n",
        "\n",
        "\n",
        "El chat debe tener la siguiente estructura:\n",
        "\n",
        "Cliente: Buenos Dias, quiero vuelos desde {salida} a {destino} cerca de la fecha {fecha}\n",
        "Asistente:Buenos dias {cliente}. Tenemos vuelos en la fecha {fecha}\n",
        "Cliente: Si, quiero reservar el vuelo ese día\n",
        "Asistente: ¿Quieres volar en clase turista o clase business?\n",
        "Cliente: {n_pasajeros} asientos en clase {asiento}, por favor\n",
        "\"\"\"\n",
        "\n",
        "\n",
        "prompt = ChatPromptTemplate.from_template(template=template_vuelo_bonito)\n",
        "model = ChatOpenAI()\n",
        "output_parser = StrOutputParser()\n",
        "\n",
        "chain = prompt | model | output_parser\n",
        "\n",
        "entrada={\"cliente\": \"Antonio Garcia\",\"salida\":\"Madrid\",\"destino\":\"Tokio\",\"fecha\": \"8 de abril de 2024\", \"asiento\":\"turista\", \"n_pasajeros\":\"1\"}\n",
        "\n",
        "respuesta_vuelo_bonito= chain.invoke(entrada)\n",
        "chat_history.add_message(respuesta_vuelo_bonito)\n",
        "print(chat_history.messages[-1])"
      ],
      "metadata": {
        "colab": {
          "base_uri": "https://localhost:8080/"
        },
        "id": "wkRLG4tass55",
        "outputId": "c6492369-6523-4bc2-8336-e0916d8bd2d7"
      },
      "execution_count": 15,
      "outputs": [
        {
          "output_type": "stream",
          "name": "stdout",
          "text": [
            "Cliente: Buenos Dias, quiero vuelos desde Madrid a Tokio cerca de la fecha 8 de abril de 2024\n",
            "\n",
            "Asistente: Buenos dias Antonio Garcia. Tenemos vuelos en la fecha 8 de abril de 2024\n",
            "\n",
            "Cliente: Si, quiero reservar el vuelo ese día\n",
            "\n",
            "Asistente: ¿Quieres volar en clase turista o clase business?\n",
            "\n",
            "Cliente: 1 asientos en clase turista, por favor\n",
            "\n",
            "Asistente: Perfecto, tenemos un vuelo disponible de Madrid a Tokio el 8 de abril de 2024. El horario de salida es a las 10:00 am y el precio del asiento en clase turista es de 800 euros. ¿Deseas reservar este vuelo?\n",
            "\n",
            "Cliente: Sí, por favor. ¿Podría confirmarme el precio total con impuestos incluidos?\n",
            "\n",
            "Asistente: Claro, el precio total para 1 asiento en clase turista con impuestos incluidos es de 900 euros. ¿Deseas proceder con la reserva?\n",
            "\n",
            "Cliente: Sí, procedo con la reserva. ¿Cuál es el método de pago?\n",
            "\n",
            "Asistente: Puedes realizar el pago con tarjeta de crédito o transferencia bancaria. ¿Cuál prefieres?\n",
            "\n",
            "Cliente: Prefiero pagar con tarjeta de crédito. ¿Qué información necesitas?\n",
            "\n",
            "Asistente: Necesitaré el número de tu tarjeta, la fecha de vencimiento y el código de seguridad de 3 dígitos en la parte posterior. Por favor, proporciona esta información de forma segura.\n",
            "\n",
            "Cliente: Aquí tienes la información de mi tarjeta: 1234 5678 9012 3456, fecha de vencimiento 12/26, código de seguridad 789.\n",
            "\n",
            "Asistente: Gracias por la información. Tu reserva ha sido confirmada. Recibirás un correo electrónico con los detalles de tu vuelo. ¿Hay algo más en lo que pueda ayudarte?\n",
            "\n",
            "Cliente: No, eso es todo. Gracias por tu ayuda.\n",
            "\n",
            "Asistente: Ha sido un placer ayudarte. Que tengas un buen día y disfrutes tu vuelo a Tokio. ¡Hasta pronto!\n"
          ]
        }
      ]
    },
    {
      "cell_type": "code",
      "source": [
        "import builtins\n",
        "\n",
        "# Restaura la función original de input\n",
        "input = builtins.input\n",
        "\n",
        "nombre_cliente= input(\"nombre del cliente: \")\n",
        "\n",
        "dia_deseado= input(\"selecciona dia que quieres volar en el formato año-mes-dia: \")\n",
        "\n",
        "print(\"mostrando vuelos disponibles: \")\n",
        "print(df[(df[\"fecha\"]==dia_deseado)  & (df[\"estado\"] != \"Cancelado\" )  & (df[\"estado\"] != \"Realizado\")][[\"aeropuerto_salida\",\"aeropuerto_llegada\",\"precio_business\",\"precio_turista\"]].to_string(index=False))\n",
        "print()\n",
        "\n",
        "salida=input(\"selecciona aeropuerto desde el que quieres volar: \")\n",
        "\n",
        "print(\"mostrando destinos disponibles: \")\n",
        "\n",
        "print(df[(df[\"aeropuerto_salida\"] == salida) & (df[\"fecha\"] == dia_deseado)][[\"aeropuerto_llegada\",\"hora_llegada\",\"precio_business\",\"precio_turista\"]].to_string(index=False))\n",
        "print()\n",
        "\n",
        "destino=input(\"selecciona a donde quieres volar: \")\n",
        "\n",
        "asiento=input(\"quieres volar en turista o en business: \")\n",
        "\n",
        "n_pasajeros=input(\"cuantos asientos quieres reservar: \")\n",
        "\n",
        "precio_turista= float(df[(df[\"aeropuerto_salida\"] == salida) & (df[\"fecha\"] == dia_deseado) & (df[\"aeropuerto_llegada\"] == destino)][\"precio_turista\"])\n",
        "precio_business= float(df[(df[\"aeropuerto_salida\"] == salida) & (df[\"fecha\"] == dia_deseado) & (df[\"aeropuerto_llegada\"] == destino)][\"precio_business\"])\n",
        "plazas_turista_disponibles= float(df[(df[\"aeropuerto_salida\"] == salida) & (df[\"fecha\"] == dia_deseado) & (df[\"aeropuerto_llegada\"] == destino)][\"plazas_turista_disponibles\"])\n",
        "plazas_turista_disponibles= float(df[(df[\"aeropuerto_salida\"] == salida) & (df[\"fecha\"] == dia_deseado) & (df[\"aeropuerto_llegada\"] == destino)][\"plazas_business_disponibles\"])\n",
        "id_vuelo=int(df[(df[\"aeropuerto_salida\"] == salida) & (df[\"fecha\"] == dia_deseado) & (df[\"aeropuerto_llegada\"] == destino)][\"id\"])\n"
      ],
      "metadata": {
        "colab": {
          "base_uri": "https://localhost:8080/"
        },
        "id": "l-O3sK2yk_1n",
        "outputId": "a80428c5-5951-45c5-f731-0f003b15d72b"
      },
      "execution_count": 16,
      "outputs": [
        {
          "name": "stdout",
          "output_type": "stream",
          "text": [
            "nombre del cliente: Maria Rubio\n",
            "selecciona dia que quieres volar en el formato año-mes-dia: 2024-04-04\n",
            "mostrando vuelos disponibles: \n",
            "aeropuerto_salida aeropuerto_llegada  precio_business  precio_turista\n",
            "       Nueva York             Madrid          1293.46          621.46\n",
            "         Varsovia             Malaga          1172.66          500.66\n",
            "             Roma          Barcelona          1132.88          460.88\n",
            "         Tenerife             Madrid          1155.80          483.80\n",
            "\n",
            "selecciona aeropuerto desde el que quieres volar: Nueva York\n",
            "mostrando destinos disponibles: \n",
            "aeropuerto_llegada hora_llegada  precio_business  precio_turista\n",
            "            Madrid        23:00          1293.46          621.46\n",
            "\n",
            "selecciona a donde quieres volar: Madrid\n",
            "quieres volar en turista o en business: turista\n",
            "cuantos asientos quieres reservar: 2\n"
          ]
        }
      ]
    },
    {
      "cell_type": "code",
      "source": [
        "template_vuelo_perfecto=\"\"\"\n",
        "\n",
        "Actua como un asistente para reservar vuelos con precios estandarizados.\n",
        "\n",
        "Debes crear una transcripción de chat donde un cliente de nombre {cliente} trata\n",
        "de reservar unos vuelos en nuestra aerolinia desde salida {salida} a un\n",
        "destino {destino}. El asistente tiene vuelos en la fecha en la que el cliente\n",
        "quiere volar {fecha} los precios de los asientos en turista{precio_turista} y business{precio_business}.\n",
        "El cliente decide el tipo de asiento {asiento} para un numero de personas {n_pasajeros}.\n",
        "\n",
        "\n",
        "El chat debe tener la siguiente estructura:\n",
        "\n",
        "Cliente: Buenos Dias, quiero vuelos desde {salida} a {destino} cerca de la fecha {fecha}\n",
        "Asistente:Buenos dias {cliente}. Tenemos el siguiente vuelo con id {id_vuelo} en la fecha {fecha}\n",
        "Cliente: Si, quiero reservar el vuelo ese día\n",
        "Asistente: ¿Quieres volar en clase turista o clase business?\n",
        "Cliente: {n_pasajeros} asientos en clase {asiento}, por favor\n",
        "Asistente: El precio del asiento es (precio)\n",
        "\"\"\"\n",
        "\n",
        "\n",
        "prompt = ChatPromptTemplate.from_template(template=template_vuelo_perfecto)\n",
        "model = ChatOpenAI()\n",
        "output_parser = StrOutputParser()\n",
        "\n",
        "chain = prompt | model | output_parser\n",
        "\n",
        "entrada={\"cliente\": nombre_cliente,\"id_vuelo\":id_vuelo,\"salida\":salida,\"destino\":destino,\"fecha\": dia_deseado, \"asiento\":asiento, \"n_pasajeros\":n_pasajeros,\"precio_turista\":precio_turista,\"precio_business\":precio_business}\n",
        "\n",
        "respuesta_vuelo_perfecto= chain.invoke(entrada)\n",
        "chat_history.add_message(respuesta_vuelo_perfecto)\n",
        "print(chat_history.messages[-1])"
      ],
      "metadata": {
        "colab": {
          "base_uri": "https://localhost:8080/"
        },
        "id": "QzyQxfXDwdo8",
        "outputId": "39759ee1-03b7-49ea-c29f-10362336298c"
      },
      "execution_count": 17,
      "outputs": [
        {
          "output_type": "stream",
          "name": "stdout",
          "text": [
            "Cliente: Buenos Dias, quiero vuelos desde Nueva York a Madrid cerca de la fecha 2024-04-04\n",
            "\n",
            "Asistente: Buenos dias Maria Rubio. Tenemos el siguiente vuelo con id 1454 en la fecha 2024-04-04\n",
            "\n",
            "Cliente: Si, quiero reservar el vuelo ese día\n",
            "\n",
            "Asistente: ¿Quieres volar en clase turista o clase business?\n",
            "\n",
            "Cliente: 2 asientos en clase turista, por favor\n",
            "\n",
            "Asistente: El precio del asiento es $621.46\n",
            "\n",
            "¡Reserva realizada con éxito! ¿Hay algo más en lo que te pueda ayudar?\n"
          ]
        }
      ]
    },
    {
      "cell_type": "markdown",
      "source": [
        "## Incorporacion de RAG para entender los datos"
      ],
      "metadata": {
        "id": "vsKhGyDof9IL"
      }
    },
    {
      "cell_type": "code",
      "source": [
        "loader = CSVLoader(\"vuelos.csv\", encoding=\"windows-1252\",\n",
        "                   csv_args={\n",
        "                       \"delimiter\":\",\",\n",
        "                       \"quotechar\":'\"',\n",
        "                       \"fieldnames\":[\"id\",\"estado\",\"fecha\",\"hora_salida\",\"hora_llegada\",\"aeropuerto_salida\",\"aeropuerto_llegada\",\"duracion\", \"tipo_vuelo\",\"modelo\",\"plazas_totales\",\n",
        "                                     \"plazas_disponibles\",\"plazas_busisness_totales\",\"plazas_business_disponibles\",\"plazas_turista_totales\",\"plazas_turista_disponibles\",\n",
        "                                     \"precio_business\", \"precio_turista\"]})\n",
        "documents = loader.load()\n",
        "text_splitter = RecursiveCharacterTextSplitter(chunk_size=1000, chunk_overlap=100, keep_separator=True)\n",
        "docs= text_splitter.split_documents(documents)\n",
        "embedding_function = OpenAIEmbeddings()\n",
        "db = Chroma.from_documents(documents, embedding_function)\n"
      ],
      "metadata": {
        "id": "UDfCOK0Tk_8V",
        "colab": {
          "base_uri": "https://localhost:8080/"
        },
        "outputId": "9f7c40bc-cb76-4001-84fd-494bc0b74a01"
      },
      "execution_count": 18,
      "outputs": [
        {
          "output_type": "stream",
          "name": "stderr",
          "text": [
            "/usr/local/lib/python3.10/dist-packages/langchain_core/_api/deprecation.py:117: LangChainDeprecationWarning: The class `langchain_community.embeddings.openai.OpenAIEmbeddings` was deprecated in langchain-community 0.0.9 and will be removed in 0.2.0. An updated version of the class exists in the langchain-openai package and should be used instead. To use it run `pip install -U langchain-openai` and import as `from langchain_openai import OpenAIEmbeddings`.\n",
            "  warn_deprecated(\n"
          ]
        }
      ]
    },
    {
      "cell_type": "markdown",
      "source": [
        "Retriever: seleccionará los documentos necesarios para utilizar como contexto en funcion del prompt aportado. Esto puede ser problematico al no ser capaz de manejar un contexto tan grande como queramos y existir la necesidad de acotar el contexto\n",
        "\n",
        "Podemos modificar el retriever para aumentar el número de documentos \"vuelos\" que detecta e introduce como contexto"
      ],
      "metadata": {
        "id": "Z9F34EnAGjXN"
      }
    },
    {
      "cell_type": "code",
      "source": [
        "retriever = db.as_retriever(search_type=\"similarity_score_threshold\",\n",
        "                            search_kwargs={\"score_threshold\": 0.5, \"k\":50}\n",
        "                            )"
      ],
      "metadata": {
        "id": "9TrTyUKePfjI"
      },
      "execution_count": 19,
      "outputs": []
    },
    {
      "cell_type": "markdown",
      "source": [
        "Un ejemplo de funcionamiento de retriever: podremos ver como no saca todos los vuelos en abril y tambien nos proporciona vuelos en otros meses, debido a que la busquedad por similaridad no es del todo precisa"
      ],
      "metadata": {
        "id": "PKmtoYjdHAaU"
      }
    },
    {
      "cell_type": "code",
      "source": [
        "retriever.invoke(\"dame los vuelos en abril con salida en Madrid y destino en Tokio\")"
      ],
      "metadata": {
        "colab": {
          "base_uri": "https://localhost:8080/"
        },
        "id": "GvrYdx6bPqCQ",
        "outputId": "f605f414-7180-4341-9332-f2e9a4094c80"
      },
      "execution_count": 20,
      "outputs": [
        {
          "output_type": "execute_result",
          "data": {
            "text/plain": [
              "[Document(page_content='id: 1493\\nestado: Programado\\nfecha: 2024-04-13\\nhora_salida: 15:00:00\\nhora_llegada: 19:00\\naeropuerto_salida: Tokio\\naeropuerto_llegada: Madrid\\nduracion: 13 horas\\ntipo_vuelo: internacional\\nmodelo: Airbus A500\\nplazas_totales: 348\\nplazas_disponibles: 1\\nplazas_busisness_totales: 50\\nplazas_business_disponibles: 0\\nplazas_turista_totales: 298\\nplazas_turista_disponibles: 1\\nprecio_business: 1363.67\\nprecio_turista: 739.67', metadata={'row': 132, 'source': 'vuelos.csv'}),\n",
              " Document(page_content='id: 1759\\nestado: Programado\\nfecha: 2024-06-10\\nhora_salida: 10:00:00\\nhora_llegada: 10:00\\naeropuerto_salida: Madrid\\naeropuerto_llegada: Tokio\\nduracion: 15 horas\\ntipo_vuelo: internacional\\nmodelo: Airbus A500\\nplazas_totales: 348\\nplazas_disponibles: 181\\nplazas_busisness_totales: 50\\nplazas_business_disponibles: 30\\nplazas_turista_totales: 298\\nplazas_turista_disponibles: 151\\nprecio_business: 653.67\\nprecio_turista: 455.67', metadata={'row': 398, 'source': 'vuelos.csv'}),\n",
              " Document(page_content='id: 2005\\nestado: Programado\\nfecha: 2024-08-03\\nhora_salida: 15:00:00\\nhora_llegada: 19:00\\naeropuerto_salida: Tokio\\naeropuerto_llegada: Madrid\\nduracion: 13 horas\\ntipo_vuelo: internacional\\nmodelo: Airbus A500\\nplazas_totales: 348\\nplazas_disponibles: 287\\nplazas_busisness_totales: 50\\nplazas_business_disponibles: 37\\nplazas_turista_totales: 298\\nplazas_turista_disponibles: 250\\nprecio_business: 841.17\\nprecio_turista: 530.67', metadata={'row': 644, 'source': 'vuelos.csv'}),\n",
              " Document(page_content='id: 2015\\nestado: Programado\\nfecha: 2024-08-05\\nhora_salida: 10:00:00\\nhora_llegada: 10:00\\naeropuerto_salida: Madrid\\naeropuerto_llegada: Tokio\\nduracion: 15 horas\\ntipo_vuelo: internacional\\nmodelo: Airbus A500\\nplazas_totales: 348\\nplazas_disponibles: 280\\nplazas_busisness_totales: 50\\nplazas_business_disponibles: 34\\nplazas_turista_totales: 298\\nplazas_turista_disponibles: 246\\nprecio_business: 841.17\\nprecio_turista: 530.67', metadata={'row': 654, 'source': 'vuelos.csv'}),\n",
              " Document(page_content='id: 1845\\nestado: Programado\\nfecha: 2024-06-29\\nhora_salida: 15:00:00\\nhora_llegada: 19:00\\naeropuerto_salida: Tokio\\naeropuerto_llegada: Madrid\\nduracion: 13 horas\\ntipo_vuelo: internacional\\nmodelo: Airbus A500\\nplazas_totales: 348\\nplazas_disponibles: 167\\nplazas_busisness_totales: 50\\nplazas_business_disponibles: 30\\nplazas_turista_totales: 298\\nplazas_turista_disponibles: 137\\nprecio_business: 973.67\\nprecio_turista: 583.67', metadata={'row': 484, 'source': 'vuelos.csv'}),\n",
              " Document(page_content='id: 1631\\nestado: Programado\\nfecha: 2024-05-13\\nhora_salida: 10:00:00\\nhora_llegada: 10:00\\naeropuerto_salida: Madrid\\naeropuerto_llegada: Tokio\\nduracion: 15 horas\\ntipo_vuelo: internacional\\nmodelo: Airbus A500\\nplazas_totales: 348\\nplazas_disponibles: 140\\nplazas_busisness_totales: 50\\nplazas_business_disponibles: 21\\nplazas_turista_totales: 298\\nplazas_turista_disponibles: 119\\nprecio_business: 824.17\\nprecio_turista: 523.87', metadata={'row': 270, 'source': 'vuelos.csv'}),\n",
              " Document(page_content='id: 1749\\nestado: Programado\\nfecha: 2024-06-08\\nhora_salida: 15:00:00\\nhora_llegada: 19:00\\naeropuerto_salida: Tokio\\naeropuerto_llegada: Madrid\\nduracion: 13 horas\\ntipo_vuelo: internacional\\nmodelo: Airbus A500\\nplazas_totales: 348\\nplazas_disponibles: 206\\nplazas_busisness_totales: 50\\nplazas_business_disponibles: 26\\nplazas_turista_totales: 298\\nplazas_turista_disponibles: 180\\nprecio_business: 653.67\\nprecio_turista: 455.67', metadata={'row': 388, 'source': 'vuelos.csv'}),\n",
              " Document(page_content='id: 1535\\nestado: Programado\\nfecha: 2024-04-22\\nhora_salida: 10:00:00\\nhora_llegada: 10:00\\naeropuerto_salida: Madrid\\naeropuerto_llegada: Tokio\\nduracion: 15 horas\\ntipo_vuelo: internacional\\nmodelo: Airbus A500\\nplazas_totales: 348\\nplazas_disponibles: 60\\nplazas_busisness_totales: 50\\nplazas_business_disponibles: 6\\nplazas_turista_totales: 298\\nplazas_turista_disponibles: 54\\nprecio_business: 1103.67\\nprecio_turista: 635.67', metadata={'row': 174, 'source': 'vuelos.csv'}),\n",
              " Document(page_content='id: 1599\\nestado: Programado\\nfecha: 2024-05-06\\nhora_salida: 10:00:00\\nhora_llegada: 10:00\\naeropuerto_salida: Madrid\\naeropuerto_llegada: Tokio\\nduracion: 15 horas\\ntipo_vuelo: internacional\\nmodelo: Airbus A500\\nplazas_totales: 348\\nplazas_disponibles: 146\\nplazas_busisness_totales: 50\\nplazas_business_disponibles: 14\\nplazas_turista_totales: 298\\nplazas_turista_disponibles: 132\\nprecio_business: 824.17\\nprecio_turista: 523.87', metadata={'row': 238, 'source': 'vuelos.csv'}),\n",
              " Document(page_content='id: 1941\\nestado: Programado\\nfecha: 2024-07-20\\nhora_salida: 15:00:00\\nhora_llegada: 19:00\\naeropuerto_salida: Tokio\\naeropuerto_llegada: Madrid\\nduracion: 13 horas\\ntipo_vuelo: internacional\\nmodelo: Airbus A500\\nplazas_totales: 348\\nplazas_disponibles: 207\\nplazas_busisness_totales: 50\\nplazas_business_disponibles: 27\\nplazas_turista_totales: 298\\nplazas_turista_disponibles: 180\\nprecio_business: 863.67\\nprecio_turista: 539.67', metadata={'row': 580, 'source': 'vuelos.csv'}),\n",
              " Document(page_content='id: 1791\\nestado: Programado\\nfecha: 2024-06-17\\nhora_salida: 10:00:00\\nhora_llegada: 10:00\\naeropuerto_salida: Madrid\\naeropuerto_llegada: Tokio\\nduracion: 15 horas\\ntipo_vuelo: internacional\\nmodelo: Airbus A500\\nplazas_totales: 348\\nplazas_disponibles: 188\\nplazas_busisness_totales: 50\\nplazas_business_disponibles: 26\\nplazas_turista_totales: 298\\nplazas_turista_disponibles: 162\\nprecio_business: 653.67\\nprecio_turista: 455.67', metadata={'row': 430, 'source': 'vuelos.csv'}),\n",
              " Document(page_content='id: 1471\\nestado: Programado\\nfecha: 2024-04-08\\nhora_salida: 10:00:00\\nhora_llegada: 10:00\\naeropuerto_salida: Madrid\\naeropuerto_llegada: Tokio\\nduracion: 15 horas\\ntipo_vuelo: internacional\\nmodelo: Airbus A500\\nplazas_totales: 348\\nplazas_disponibles: 17\\nplazas_busisness_totales: 50\\nplazas_business_disponibles: 2\\nplazas_turista_totales: 298\\nplazas_turista_disponibles: 15\\nprecio_business: 1363.67\\nprecio_turista: 739.67', metadata={'row': 110, 'source': 'vuelos.csv'}),\n",
              " Document(page_content='id: 1813\\nestado: Programado\\nfecha: 2024-06-22\\nhora_salida: 15:00:00\\nhora_llegada: 19:00\\naeropuerto_salida: Tokio\\naeropuerto_llegada: Madrid\\nduracion: 13 horas\\ntipo_vuelo: internacional\\nmodelo: Airbus A500\\nplazas_totales: 348\\nplazas_disponibles: 165\\nplazas_busisness_totales: 50\\nplazas_business_disponibles: 30\\nplazas_turista_totales: 298\\nplazas_turista_disponibles: 135\\nprecio_business: 973.67\\nprecio_turista: 583.67', metadata={'row': 452, 'source': 'vuelos.csv'}),\n",
              " Document(page_content='id: 1855\\nestado: Programado\\nfecha: 2024-07-01\\nhora_salida: 10:00:00\\nhora_llegada: 10:00\\naeropuerto_salida: Madrid\\naeropuerto_llegada: Tokio\\nduracion: 15 horas\\ntipo_vuelo: internacional\\nmodelo: Airbus A500\\nplazas_totales: 348\\nplazas_disponibles: 222\\nplazas_busisness_totales: 50\\nplazas_business_disponibles: 31\\nplazas_turista_totales: 298\\nplazas_turista_disponibles: 191\\nprecio_business: 863.67\\nprecio_turista: 539.67', metadata={'row': 494, 'source': 'vuelos.csv'}),\n",
              " Document(page_content='id: 1557\\nestado: Programado\\nfecha: 2024-04-27\\nhora_salida: 15:00:00\\nhora_llegada: 19:00\\naeropuerto_salida: Tokio\\naeropuerto_llegada: Madrid\\nduracion: 13 horas\\ntipo_vuelo: internacional\\nmodelo: Airbus A500\\nplazas_totales: 348\\nplazas_disponibles: 52\\nplazas_busisness_totales: 50\\nplazas_business_disponibles: 6\\nplazas_turista_totales: 298\\nplazas_turista_disponibles: 46\\nprecio_business: 1283.67\\nprecio_turista: 707.67', metadata={'row': 196, 'source': 'vuelos.csv'}),\n",
              " Document(page_content='id: 1567\\nestado: Programado\\nfecha: 2024-04-29\\nhora_salida: 10:00:00\\nhora_llegada: 10:00\\naeropuerto_salida: Madrid\\naeropuerto_llegada: Tokio\\nduracion: 15 horas\\ntipo_vuelo: internacional\\nmodelo: Airbus A500\\nplazas_totales: 348\\nplazas_disponibles: 47\\nplazas_busisness_totales: 50\\nplazas_business_disponibles: 7\\nplazas_turista_totales: 298\\nplazas_turista_disponibles: 40\\nprecio_business: 1283.67\\nprecio_turista: 707.67', metadata={'row': 206, 'source': 'vuelos.csv'}),\n",
              " Document(page_content='id: 1663\\nestado: Programado\\nfecha: 2024-05-20\\nhora_salida: 10:00:00\\nhora_llegada: 10:00\\naeropuerto_salida: Madrid\\naeropuerto_llegada: Tokio\\nduracion: 15 horas\\ntipo_vuelo: internacional\\nmodelo: Airbus A500\\nplazas_totales: 348\\nplazas_disponibles: 140\\nplazas_busisness_totales: 50\\nplazas_business_disponibles: 15\\nplazas_turista_totales: 298\\nplazas_turista_disponibles: 125\\nprecio_business: 973.67\\nprecio_turista: 583.67', metadata={'row': 302, 'source': 'vuelos.csv'}),\n",
              " Document(page_content='id: 1951\\nestado: Programado\\nfecha: 2024-07-22\\nhora_salida: 10:00:00\\nhora_llegada: 10:00\\naeropuerto_salida: Madrid\\naeropuerto_llegada: Tokio\\nduracion: 15 horas\\ntipo_vuelo: internacional\\nmodelo: Airbus A500\\nplazas_totales: 348\\nplazas_disponibles: 173\\nplazas_busisness_totales: 50\\nplazas_business_disponibles: 33\\nplazas_turista_totales: 298\\nplazas_turista_disponibles: 140\\nprecio_business: 908.67\\nprecio_turista: 557.67', metadata={'row': 590, 'source': 'vuelos.csv'}),\n",
              " Document(page_content='id: 1525\\nestado: Programado\\nfecha: 2024-04-20\\nhora_salida: 15:00:00\\nhora_llegada: 19:00\\naeropuerto_salida: Tokio\\naeropuerto_llegada: Madrid\\nduracion: 13 horas\\ntipo_vuelo: internacional\\nmodelo: Airbus A500\\nplazas_totales: 348\\nplazas_disponibles: 34\\nplazas_busisness_totales: 50\\nplazas_business_disponibles: 10\\nplazas_turista_totales: 298\\nplazas_turista_disponibles: 24\\nprecio_business: 1283.67\\nprecio_turista: 707.67', metadata={'row': 164, 'source': 'vuelos.csv'}),\n",
              " Document(page_content='id: 1781\\nestado: Programado\\nfecha: 2024-06-15\\nhora_salida: 15:00:00\\nhora_llegada: 19:00\\naeropuerto_salida: Tokio\\naeropuerto_llegada: Madrid\\nduracion: 13 horas\\ntipo_vuelo: internacional\\nmodelo: Airbus A500\\nplazas_totales: 348\\nplazas_disponibles: 184\\nplazas_busisness_totales: 50\\nplazas_business_disponibles: 30\\nplazas_turista_totales: 298\\nplazas_turista_disponibles: 154\\nprecio_business: 653.67\\nprecio_turista: 455.67', metadata={'row': 420, 'source': 'vuelos.csv'}),\n",
              " Document(page_content='id: 1887\\nestado: Programado\\nfecha: 2024-07-08\\nhora_salida: 10:00:00\\nhora_llegada: 10:00\\naeropuerto_salida: Madrid\\naeropuerto_llegada: Tokio\\nduracion: 15 horas\\ntipo_vuelo: internacional\\nmodelo: Airbus A500\\nplazas_totales: 348\\nplazas_disponibles: 186\\nplazas_busisness_totales: 50\\nplazas_business_disponibles: 29\\nplazas_turista_totales: 298\\nplazas_turista_disponibles: 157\\nprecio_business: 863.67\\nprecio_turista: 539.67', metadata={'row': 526, 'source': 'vuelos.csv'}),\n",
              " Document(page_content='id: 1909\\nestado: Programado\\nfecha: 2024-07-13\\nhora_salida: 15:00:00\\nhora_llegada: 19:00\\naeropuerto_salida: Tokio\\naeropuerto_llegada: Madrid\\nduracion: 13 horas\\ntipo_vuelo: internacional\\nmodelo: Airbus A500\\nplazas_totales: 348\\nplazas_disponibles: 164\\nplazas_busisness_totales: 50\\nplazas_business_disponibles: 23\\nplazas_turista_totales: 298\\nplazas_turista_disponibles: 141\\nprecio_business: 908.67\\nprecio_turista: 557.67', metadata={'row': 548, 'source': 'vuelos.csv'}),\n",
              " Document(page_content='id: 1461\\nestado: cancelado\\nfecha: 2024-04-06\\nhora_salida: 15:00:00\\nhora_llegada: 19:00\\naeropuerto_salida: Tokio\\naeropuerto_llegada: Madrid\\nduracion: 13 horas\\ntipo_vuelo: internacional\\nmodelo: Airbus A500\\nplazas_totales: 348\\nplazas_disponibles: 21\\nplazas_busisness_totales: 50\\nplazas_business_disponibles: 0\\nplazas_turista_totales: 298\\nplazas_turista_disponibles: 21\\nprecio_business: 1443.67\\nprecio_turista: 771.67', metadata={'row': 100, 'source': 'vuelos.csv'}),\n",
              " Document(page_content='id: 1919\\nestado: Programado\\nfecha: 2024-07-15\\nhora_salida: 10:00:00\\nhora_llegada: 10:00\\naeropuerto_salida: Madrid\\naeropuerto_llegada: Tokio\\nduracion: 15 horas\\ntipo_vuelo: internacional\\nmodelo: Airbus A500\\nplazas_totales: 348\\nplazas_disponibles: 209\\nplazas_busisness_totales: 50\\nplazas_business_disponibles: 32\\nplazas_turista_totales: 298\\nplazas_turista_disponibles: 177\\nprecio_business: 863.67\\nprecio_turista: 539.67', metadata={'row': 558, 'source': 'vuelos.csv'}),\n",
              " Document(page_content='id: 1429\\nestado: Realizado\\nfecha: 2024-03-30\\nhora_salida: 15:00:00\\nhora_llegada: 19:00\\naeropuerto_salida: Tokio\\naeropuerto_llegada: Madrid\\nduracion: 13 horas\\ntipo_vuelo: internacional\\nmodelo: Airbus A500\\nplazas_totales: 348\\nplazas_disponibles: 4\\nplazas_busisness_totales: 50\\nplazas_business_disponibles: 0\\nplazas_turista_totales: 298\\nplazas_turista_disponibles: 4\\nprecio_business: 1443.67\\nprecio_turista: 771.67', metadata={'row': 68, 'source': 'vuelos.csv'}),\n",
              " Document(page_content='id: 1407\\nestado: Realizado\\nfecha: 2024-03-25\\nhora_salida: 10:00:00\\nhora_llegada: 10:00\\naeropuerto_salida: Madrid\\naeropuerto_llegada: Tokio\\nduracion: 15 horas\\ntipo_vuelo: internacional\\nmodelo: Airbus A500\\nplazas_totales: 348\\nplazas_disponibles: 0\\nplazas_busisness_totales: 50\\nplazas_business_disponibles: 0\\nplazas_turista_totales: 298\\nplazas_turista_disponibles: 0\\nprecio_business: 1443.67\\nprecio_turista: 771.67', metadata={'row': 46, 'source': 'vuelos.csv'}),\n",
              " Document(page_content='id: 1653\\nestado: cancelado\\nfecha: 2024-05-18\\nhora_salida: 15:00:00\\nhora_llegada: 19:00\\naeropuerto_salida: Tokio\\naeropuerto_llegada: Madrid\\nduracion: 13 horas\\ntipo_vuelo: internacional\\nmodelo: Airbus A500\\nplazas_totales: 348\\nplazas_disponibles: 156\\nplazas_busisness_totales: 50\\nplazas_business_disponibles: 23\\nplazas_turista_totales: 298\\nplazas_turista_disponibles: 133\\nprecio_business: 973.67\\nprecio_turista: 583.67', metadata={'row': 292, 'source': 'vuelos.csv'}),\n",
              " Document(page_content='id: 1823\\nestado: Programado\\nfecha: 2024-06-24\\nhora_salida: 10:00:00\\nhora_llegada: 10:00\\naeropuerto_salida: Madrid\\naeropuerto_llegada: Tokio\\nduracion: 15 horas\\ntipo_vuelo: internacional\\nmodelo: Airbus A500\\nplazas_totales: 348\\nplazas_disponibles: 209\\nplazas_busisness_totales: 50\\nplazas_business_disponibles: 23\\nplazas_turista_totales: 298\\nplazas_turista_disponibles: 186\\nprecio_business: 653.67\\nprecio_turista: 455.67', metadata={'row': 462, 'source': 'vuelos.csv'}),\n",
              " Document(page_content='id: 1983\\nestado: Programado\\nfecha: 2024-07-29\\nhora_salida: 10:00:00\\nhora_llegada: 10:00\\naeropuerto_salida: Madrid\\naeropuerto_llegada: Tokio\\nduracion: 15 horas\\ntipo_vuelo: internacional\\nmodelo: Airbus A500\\nplazas_totales: 348\\nplazas_disponibles: 181\\nplazas_busisness_totales: 50\\nplazas_business_disponibles: 33\\nplazas_turista_totales: 298\\nplazas_turista_disponibles: 148\\nprecio_business: 863.67\\nprecio_turista: 539.67', metadata={'row': 622, 'source': 'vuelos.csv'}),\n",
              " Document(page_content='id: 1589\\nestado: Programado\\nfecha: 2024-05-04\\nhora_salida: 15:00:00\\nhora_llegada: 19:00\\naeropuerto_salida: Tokio\\naeropuerto_llegada: Madrid\\nduracion: 13 horas\\ntipo_vuelo: internacional\\nmodelo: Airbus A500\\nplazas_totales: 348\\nplazas_disponibles: 92\\nplazas_busisness_totales: 50\\nplazas_business_disponibles: 17\\nplazas_turista_totales: 298\\nplazas_turista_disponibles: 75\\nprecio_business: 1038.67\\nprecio_turista: 609.67', metadata={'row': 228, 'source': 'vuelos.csv'}),\n",
              " Document(page_content='id: 1503\\nestado: Programado\\nfecha: 2024-04-15\\nhora_salida: 10:00:00\\nhora_llegada: 10:00\\naeropuerto_salida: Madrid\\naeropuerto_llegada: Tokio\\nduracion: 15 horas\\ntipo_vuelo: internacional\\nmodelo: Airbus A500\\nplazas_totales: 348\\nplazas_disponibles: 3\\nplazas_busisness_totales: 50\\nplazas_business_disponibles: 3\\nplazas_turista_totales: 298\\nplazas_turista_disponibles: 0\\nprecio_business: 1283.67\\nprecio_turista: 707.67', metadata={'row': 142, 'source': 'vuelos.csv'}),\n",
              " Document(page_content='id: 1685\\nestado: Programado\\nfecha: 2024-05-25\\nhora_salida: 15:00:00\\nhora_llegada: 19:00\\naeropuerto_salida: Tokio\\naeropuerto_llegada: Madrid\\nduracion: 13 horas\\ntipo_vuelo: internacional\\nmodelo: Airbus A500\\nplazas_totales: 348\\nplazas_disponibles: 119\\nplazas_busisness_totales: 50\\nplazas_business_disponibles: 21\\nplazas_turista_totales: 298\\nplazas_turista_disponibles: 98\\nprecio_business: 973.67\\nprecio_turista: 583.67', metadata={'row': 324, 'source': 'vuelos.csv'}),\n",
              " Document(page_content='id: 1439\\nestado: Programado\\nfecha: 2024-04-01\\nhora_salida: 10:00:00\\nhora_llegada: 10:00\\naeropuerto_salida: Madrid\\naeropuerto_llegada: Tokio\\nduracion: 15 horas\\ntipo_vuelo: internacional\\nmodelo: Airbus A500\\nplazas_totales: 348\\nplazas_disponibles: 6\\nplazas_busisness_totales: 50\\nplazas_business_disponibles: 0\\nplazas_turista_totales: 298\\nplazas_turista_disponibles: 6\\nprecio_business: 1443.67\\nprecio_turista: 771.67', metadata={'row': 78, 'source': 'vuelos.csv'}),\n",
              " Document(page_content='id: 1695\\nestado: Programado\\nfecha: 2024-05-27\\nhora_salida: 10:00:00\\nhora_llegada: 10:00\\naeropuerto_salida: Madrid\\naeropuerto_llegada: Tokio\\nduracion: 15 horas\\ntipo_vuelo: internacional\\nmodelo: Airbus A500\\nplazas_totales: 348\\nplazas_disponibles: 94\\nplazas_busisness_totales: 50\\nplazas_business_disponibles: 20\\nplazas_turista_totales: 298\\nplazas_turista_disponibles: 74\\nprecio_business: 973.67\\nprecio_turista: 583.67', metadata={'row': 334, 'source': 'vuelos.csv'}),\n",
              " Document(page_content='id: 1621\\nestado: Programado\\nfecha: 2024-05-11\\nhora_salida: 15:00:00\\nhora_llegada: 19:00\\naeropuerto_salida: Tokio\\naeropuerto_llegada: Madrid\\nduracion: 13 horas\\ntipo_vuelo: internacional\\nmodelo: Airbus A500\\nplazas_totales: 348\\nplazas_disponibles: 102\\nplazas_busisness_totales: 50\\nplazas_business_disponibles: 23\\nplazas_turista_totales: 298\\nplazas_turista_disponibles: 79\\nprecio_business: 1038.67\\nprecio_turista: 609.67', metadata={'row': 260, 'source': 'vuelos.csv'}),\n",
              " Document(page_content='id: 1973\\nestado: Programado\\nfecha: 2024-07-27\\nhora_salida: 15:00:00\\nhora_llegada: 19:00\\naeropuerto_salida: Tokio\\naeropuerto_llegada: Madrid\\nduracion: 13 horas\\ntipo_vuelo: internacional\\nmodelo: Airbus A500\\nplazas_totales: 348\\nplazas_disponibles: 203\\nplazas_busisness_totales: 50\\nplazas_business_disponibles: 32\\nplazas_turista_totales: 298\\nplazas_turista_disponibles: 171\\nprecio_business: 863.67\\nprecio_turista: 539.67', metadata={'row': 612, 'source': 'vuelos.csv'}),\n",
              " Document(page_content='id: 1727\\nestado: Programado\\nfecha: 2024-06-03\\nhora_salida: 10:00:00\\nhora_llegada: 10:00\\naeropuerto_salida: Madrid\\naeropuerto_llegada: Tokio\\nduracion: 15 horas\\ntipo_vuelo: internacional\\nmodelo: Airbus A500\\nplazas_totales: 348\\nplazas_disponibles: 204\\nplazas_busisness_totales: 50\\nplazas_business_disponibles: 31\\nplazas_turista_totales: 298\\nplazas_turista_disponibles: 173\\nprecio_business: 653.67\\nprecio_turista: 455.67', metadata={'row': 366, 'source': 'vuelos.csv'}),\n",
              " Document(page_content='id: 1397\\nestado: Realizado\\nfecha: 2024-03-23\\nhora_salida: 15:00:00\\nhora_llegada: 19:00\\naeropuerto_salida: Tokio\\naeropuerto_llegada: Madrid\\nduracion: 13 horas\\ntipo_vuelo: internacional\\nmodelo: Airbus A500\\nplazas_totales: 348\\nplazas_disponibles: 1\\nplazas_busisness_totales: 50\\nplazas_business_disponibles: 0\\nplazas_turista_totales: 298\\nplazas_turista_disponibles: 1\\nprecio_business: 1443.67\\nprecio_turista: 771.67', metadata={'row': 36, 'source': 'vuelos.csv'}),\n",
              " Document(page_content='id: 1375\\nestado: Realizado\\nfecha: 2024-03-18\\nhora_salida: 10:00:00\\nhora_llegada: 10:00\\naeropuerto_salida: Madrid\\naeropuerto_llegada: Tokio\\nduracion: 15 horas\\ntipo_vuelo: internacional\\nmodelo: Airbus A500\\nplazas_totales: 348\\nplazas_disponibles: 1\\nplazas_busisness_totales: 50\\nplazas_business_disponibles: 1\\nplazas_turista_totales: 298\\nplazas_turista_disponibles: 0\\nprecio_business: 1443.67\\nprecio_turista: 771.67', metadata={'row': 14, 'source': 'vuelos.csv'}),\n",
              " Document(page_content='id: 1877\\nestado: Programado\\nfecha: 2024-07-06\\nhora_salida: 15:00:00\\nhora_llegada: 19:00\\naeropuerto_salida: Tokio\\naeropuerto_llegada: Madrid\\nduracion: 13 horas\\ntipo_vuelo: internacional\\nmodelo: Airbus A500\\nplazas_totales: 348\\nplazas_disponibles: 197\\nplazas_busisness_totales: 50\\nplazas_business_disponibles: 29\\nplazas_turista_totales: 298\\nplazas_turista_disponibles: 168\\nprecio_business: 863.67\\nprecio_turista: 539.67', metadata={'row': 516, 'source': 'vuelos.csv'}),\n",
              " Document(page_content='id: 1717\\nestado: Programado\\nfecha: 2024-06-01\\nhora_salida: 15:00:00\\nhora_llegada: 19:00\\naeropuerto_salida: Tokio\\naeropuerto_llegada: Madrid\\nduracion: 13 horas\\ntipo_vuelo: internacional\\nmodelo: Airbus A500\\nplazas_totales: 348\\nplazas_disponibles: 190\\nplazas_busisness_totales: 50\\nplazas_business_disponibles: 31\\nplazas_turista_totales: 298\\nplazas_turista_disponibles: 159\\nprecio_business: 653.67\\nprecio_turista: 455.67', metadata={'row': 356, 'source': 'vuelos.csv'}),\n",
              " Document(page_content='id: 1365\\nestado: Realizado\\nfecha: 2024-03-16\\nhora_salida: 15:00:00\\nhora_llegada: 19:00\\naeropuerto_salida: Tokio\\naeropuerto_llegada: Madrid\\nduracion: 13 horas\\ntipo_vuelo: internacional\\nmodelo: Airbus A500\\nplazas_totales: 348\\nplazas_disponibles: 5\\nplazas_busisness_totales: 50\\nplazas_business_disponibles: 1\\nplazas_turista_totales: 298\\nplazas_turista_disponibles: 4\\nprecio_business: 1443.67\\nprecio_turista: 771.67', metadata={'row': 4, 'source': 'vuelos.csv'}),\n",
              " Document(page_content='id: 2037\\nestado: Programado\\nfecha: 2024-08-10\\nhora_salida: 15:00:00\\nhora_llegada: 19:00\\naeropuerto_salida: Tokio\\naeropuerto_llegada: Madrid\\nduracion: 13 horas\\ntipo_vuelo: internacional\\nmodelo: Airbus A500\\nplazas_totales: 348\\nplazas_disponibles: 272\\nplazas_busisness_totales: 50\\nplazas_business_disponibles: 36\\nplazas_turista_totales: 298\\nplazas_turista_disponibles: 236\\nprecio_business: 841.17\\nprecio_turista: 530.67', metadata={'row': 676, 'source': 'vuelos.csv'}),\n",
              " Document(page_content='id: 1513\\nestado: cancelado\\nfecha: 2024-04-17\\nhora_salida: 11:00:00\\nhora_llegada: 11:00\\naeropuerto_salida: Madrid\\naeropuerto_llegada: Sidney\\nduracion: 13 horas\\ntipo_vuelo: internacional\\nmodelo: Airbus A500\\nplazas_totales: 348\\nplazas_disponibles: 65\\nplazas_busisness_totales: 50\\nplazas_business_disponibles: 6\\nplazas_turista_totales: 298\\nplazas_turista_disponibles: 59\\nprecio_business: 1310.61\\nprecio_turista: 842.61', metadata={'row': 152, 'source': 'vuelos.csv'}),\n",
              " Document(page_content='id: 1545\\nestado: Programado\\nfecha: 2024-04-24\\nhora_salida: 11:00:00\\nhora_llegada: 11:00\\naeropuerto_salida: Madrid\\naeropuerto_llegada: Sidney\\nduracion: 13 horas\\ntipo_vuelo: internacional\\nmodelo: Airbus A500\\nplazas_totales: 348\\nplazas_disponibles: 46\\nplazas_busisness_totales: 50\\nplazas_business_disponibles: 9\\nplazas_turista_totales: 298\\nplazas_turista_disponibles: 37\\nprecio_business: 1490.61\\nprecio_turista: 914.61', metadata={'row': 184, 'source': 'vuelos.csv'}),\n",
              " Document(page_content='id: 1539\\nestado: Programado\\nfecha: 2024-04-22\\nhora_salida: 18:00:00\\nhora_llegada: 21:00\\naeropuerto_salida: Madrid\\naeropuerto_llegada: Tenerife\\nduracion: 3 horas\\ntipo_vuelo: nacional\\nmodelo: Airbus A320 Neo\\nplazas_totales: 180\\nplazas_disponibles: 19\\nplazas_busisness_totales: 30\\nplazas_business_disponibles: 6\\nplazas_turista_totales: 150\\nplazas_turista_disponibles: 13\\nprecio_business: 995.8\\nprecio_turista: 419.8', metadata={'row': 178, 'source': 'vuelos.csv'}),\n",
              " Document(page_content='id: 1993\\nestado: En curso\\nfecha: 2024-07-31\\nhora_salida: 11:00:00\\nhora_llegada: 11:00\\naeropuerto_salida: Madrid\\naeropuerto_llegada: Sidney\\nduracion: 13 horas\\ntipo_vuelo: internacional\\nmodelo: Airbus A500\\nplazas_totales: 348\\nplazas_disponibles: 274\\nplazas_busisness_totales: 50\\nplazas_business_disponibles: 42\\nplazas_turista_totales: 298\\nplazas_turista_disponibles: 232\\nprecio_business: 1048.11\\nprecio_turista: 737.61', metadata={'row': 632, 'source': 'vuelos.csv'}),\n",
              " Document(page_content='id: 1801\\nestado: Programado\\nfecha: 2024-06-19\\nhora_salida: 11:00:00\\nhora_llegada: 11:00\\naeropuerto_salida: Madrid\\naeropuerto_llegada: Sidney\\nduracion: 13 horas\\ntipo_vuelo: internacional\\nmodelo: Airbus A500\\nplazas_totales: 348\\nplazas_disponibles: 194\\nplazas_busisness_totales: 50\\nplazas_business_disponibles: 24\\nplazas_turista_totales: 298\\nplazas_turista_disponibles: 170\\nprecio_business: 860.61\\nprecio_turista: 662.61', metadata={'row': 440, 'source': 'vuelos.csv'}),\n",
              " Document(page_content='id: 1481\\nestado: Programado\\nfecha: 2024-04-10\\nhora_salida: 11:00:00\\nhora_llegada: 11:00\\naeropuerto_salida: Madrid\\naeropuerto_llegada: Sidney\\nduracion: 13 horas\\ntipo_vuelo: internacional\\nmodelo: Airbus A500\\nplazas_totales: 348\\nplazas_disponibles: 9\\nplazas_busisness_totales: 50\\nplazas_business_disponibles: 0\\nplazas_turista_totales: 298\\nplazas_turista_disponibles: 9\\nprecio_business: 1570.61\\nprecio_turista: 946.61', metadata={'row': 120, 'source': 'vuelos.csv'}),\n",
              " Document(page_content='id: 1609\\nestado: Programado\\nfecha: 2024-05-08\\nhora_salida: 11:00:00\\nhora_llegada: 11:00\\naeropuerto_salida: Madrid\\naeropuerto_llegada: Sidney\\nduracion: 13 horas\\ntipo_vuelo: internacional\\nmodelo: Airbus A500\\nplazas_totales: 348\\nplazas_disponibles: 130\\nplazas_busisness_totales: 50\\nplazas_business_disponibles: 18\\nplazas_turista_totales: 298\\nplazas_turista_disponibles: 112\\nprecio_business: 1031.11\\nprecio_turista: 730.81', metadata={'row': 248, 'source': 'vuelos.csv'})]"
            ]
          },
          "metadata": {},
          "execution_count": 20
        }
      ]
    },
    {
      "cell_type": "markdown",
      "source": [
        "## Pruebas de realización de reservas"
      ],
      "metadata": {
        "id": "dUdJZm3UIU0W"
      }
    },
    {
      "cell_type": "markdown",
      "source": [
        "Vamos a dar instrucciones para generar un texto donde se comprueba si es posible o no realizar la reserva.\n",
        "\n",
        "Realizaremos las comprobaciones para tres casos:\n",
        "\n",
        "* Vuelo con datos proporcionados por defecto que no existe\n",
        "\n",
        "* Vuelo con datos proporcionados con defecto pero sin proporcionar toda la informacion real del vuelo en el chat. El chat ha podido generar informacion ficticia\n",
        "\n",
        "* El vuelo si existe y se ha proporcionado informacion real de la base de datos"
      ],
      "metadata": {
        "id": "mcdJHUUMtjvM"
      }
    },
    {
      "cell_type": "code",
      "source": [
        "template_r = \"\"\"\n",
        "Analiza si en el siguiente contexto:\n",
        "{context}\n",
        "\n",
        "es posible realizar la reserva de vuelos solicitada en el chat.\n",
        "Si es posible, muestra los precios de los vuelos y realiza la reserva a nombre del cliente. Mostrando toda la información, Nombre del cliente, origen y destino, id del vuelo, fecha, numero de asientos, precio total etc\n",
        "Si no es posible, muestra un mensaje de que no es posible realizar la reserva y\n",
        "explica por qué\n",
        "\n",
        "El chat será enviado a traves de:\n",
        "Question: {question}\n",
        "\n",
        "Las fechas estan dadas en el formato (año-mes-dia)\n",
        "\"\"\"\n"
      ],
      "metadata": {
        "id": "lr_70voHlQXV"
      },
      "execution_count": 68,
      "outputs": []
    },
    {
      "cell_type": "markdown",
      "source": [
        "**Vuelo que no existe**\n",
        "\n",
        "Cordoba->Badajoz"
      ],
      "metadata": {
        "id": "VpIhnRoNuKL7"
      }
    },
    {
      "cell_type": "code",
      "source": [
        "prompt = ChatPromptTemplate.from_template(template_r)\n",
        "\n",
        "model = ChatOpenAI()\n",
        "\n",
        "chain = (\n",
        "    {\"context\": retriever, \"question\": RunnablePassthrough()}\n",
        "    | prompt\n",
        "    | model\n",
        "    | StrOutputParser()\n",
        ")\n",
        "\n",
        "\n",
        "comprobador_no_vuelo=chain.invoke(chat_history.messages[0])\n",
        "print(comprobador_no_vuelo)"
      ],
      "metadata": {
        "colab": {
          "base_uri": "https://localhost:8080/"
        },
        "id": "ICOKLNhmsm-M",
        "outputId": "f58af611-9713-46f9-8ded-973b57dbd9a1"
      },
      "execution_count": 22,
      "outputs": [
        {
          "output_type": "stream",
          "name": "stdout",
          "text": [
            "Dado que en el contexto proporcionado no hay información sobre vuelos desde Córdoba a Badajoz cerca de la fecha 2024-04-14, no es posible realizar la reserva solicitada en el chat. \n",
            "\n",
            "Por lo tanto, lamentablemente no es posible realizar la reserva de vuelos en esas fechas.\n"
          ]
        }
      ]
    },
    {
      "cell_type": "markdown",
      "source": [
        "El modelo entiende perfectamenete que el vuelo no existe"
      ],
      "metadata": {
        "id": "3ZQN-beqvhoV"
      }
    },
    {
      "cell_type": "markdown",
      "source": [
        "**Vuelo que existe con poca información**\n",
        "\n",
        "Madrid-> Tokio"
      ],
      "metadata": {
        "id": "N_Q-8OMbvrQz"
      }
    },
    {
      "cell_type": "code",
      "source": [
        "prompt = ChatPromptTemplate.from_template(template_r)\n",
        "\n",
        "model = ChatOpenAI()\n",
        "\n",
        "chain = (\n",
        "    {\"context\": retriever, \"question\": RunnablePassthrough()}\n",
        "    | prompt\n",
        "    | model\n",
        "    | StrOutputParser()\n",
        ")\n",
        "\n",
        "comprobador_poca_info = chain.invoke(chat_history.messages[1])\n",
        "print(comprobador_poca_info)"
      ],
      "metadata": {
        "colab": {
          "base_uri": "https://localhost:8080/"
        },
        "id": "0rzrt3txlw3s",
        "outputId": "ed99f816-df9c-4038-92d7-ca224e1e3222"
      },
      "execution_count": 69,
      "outputs": [
        {
          "output_type": "stream",
          "name": "stdout",
          "text": [
            "Para poder realizar la reserva solicitada, primero debemos verificar si existen vuelos disponibles desde Madrid a Tokio cerca de la fecha 2024-04-10.\n",
            "\n",
            "En el conjunto de datos proporcionado, no hay vuelos disponibles para la fecha exacta de 2024-04-10, pero sí existen vuelos cercanos que podrían ser de interés:\n",
            "\n",
            "- Vuelo el 2024-04-09 a las 10:00 con precio de 1363.67 euros en clase business y 739.67 euros en clase turista.\n",
            "- Vuelo el 2024-04-13 a las 11:00 con precio de 1363.67 euros en clase business y 739.67 euros en clase turista.\n",
            "\n",
            "Dado que no hay un vuelo exactamente para el día 2024-04-10, no es posible realizar la reserva solicitada para esa fecha específica. Sin embargo, se pueden considerar los vuelos cercanos como alternativas.\n",
            "\n",
            "Si el cliente está interesado en alguno de estos vuelos, se puede proceder con la reserva. En caso contrario, se puede informar al cliente que no hay disponibilidad exacta para la fecha solicitada y ofrecerle alternativas si es necesario.\n"
          ]
        }
      ]
    },
    {
      "cell_type": "markdown",
      "source": [
        "El modelo proporciona información confusa e imprecisa sobre el vuelo en la mayoria de ejecuciones. Se recomienda ejecutar esta celda varias veces para poder apreciar estos detalles"
      ],
      "metadata": {
        "id": "qLWMWNUfv0H3"
      }
    },
    {
      "cell_type": "markdown",
      "source": [
        "**Vuelo que existe con información detallada**\n",
        "\n",
        "Introducido por el usuario"
      ],
      "metadata": {
        "id": "RSBY7W9vwCSE"
      }
    },
    {
      "cell_type": "code",
      "source": [
        "print(chat_history.messages[-1])"
      ],
      "metadata": {
        "colab": {
          "base_uri": "https://localhost:8080/"
        },
        "id": "S1-9rcqCwJBs",
        "outputId": "8fc9f695-16dc-42a9-ca71-479b727a93e1"
      },
      "execution_count": 24,
      "outputs": [
        {
          "output_type": "stream",
          "name": "stdout",
          "text": [
            "Cliente: Buenos Dias, quiero vuelos desde Nueva York a Madrid cerca de la fecha 2024-04-04\n",
            "\n",
            "Asistente: Buenos dias Maria Rubio. Tenemos el siguiente vuelo con id 1454 en la fecha 2024-04-04\n",
            "\n",
            "Cliente: Si, quiero reservar el vuelo ese día\n",
            "\n",
            "Asistente: ¿Quieres volar en clase turista o clase business?\n",
            "\n",
            "Cliente: 2 asientos en clase turista, por favor\n",
            "\n",
            "Asistente: El precio del asiento es $621.46\n",
            "\n",
            "¡Reserva realizada con éxito! ¿Hay algo más en lo que te pueda ayudar?\n"
          ]
        }
      ]
    },
    {
      "cell_type": "code",
      "source": [
        "prompt = ChatPromptTemplate.from_template(template_r)\n",
        "\n",
        "model = ChatOpenAI()\n",
        "\n",
        "chain = (\n",
        "    {\"context\": retriever, \"question\": RunnablePassthrough()}\n",
        "    | prompt\n",
        "    | model\n",
        "    | StrOutputParser()\n",
        ")\n",
        "\n",
        "comprobacion=chain.invoke(chat_history.messages[-1])\n",
        "print(comprobacion)"
      ],
      "metadata": {
        "colab": {
          "base_uri": "https://localhost:8080/"
        },
        "id": "KtrGJfGBQfF0",
        "outputId": "5930ed72-be0e-4e24-bdf4-0d9b00af45de"
      },
      "execution_count": 70,
      "outputs": [
        {
          "output_type": "stream",
          "name": "stdout",
          "text": [
            "Sí es posible realizar la reserva del vuelo solicitado. A continuación se muestra la información de la reserva:\n",
            "\n",
            "- Nombre del cliente: María Rubio\n",
            "- Origen: Nueva York\n",
            "- Destino: Madrid\n",
            "- ID del vuelo: 1454\n",
            "- Fecha: 2024-04-04\n",
            "- Clase: Turista\n",
            "- Número de asientos: 2\n",
            "- Precio total: $1242.92\n",
            "\n",
            "¡Reserva realizada con éxito! ¿Hay algo más en lo que te pueda ayudar?\n"
          ]
        }
      ]
    },
    {
      "cell_type": "markdown",
      "source": [
        "Al introducir gran cantidad de datos, el modelo es bastante eficiente en generar texto coherente. Resultados satisfactorios en la gran mayoria de las ejecuciones\n",
        "\n",
        "El problema de esta manera de proporcionar contexto es que no nos aporta resultados adecuados en todos los casos.\n",
        "\n",
        "Otro problema se da en la situacion donde el cliente quiere reservar el mismo numero de asientos disponibles. El sistema tiene problemas para detectar que es posible realizar la reserva\n",
        "\n",
        "Dependiendo del vuelo solicitado, el modelo tendrá mayor o menor dificultad para identificarlo correctamente, y multitud de veces comete equivocaciones"
      ],
      "metadata": {
        "id": "29J3JFOozKND"
      }
    },
    {
      "cell_type": "markdown",
      "source": [
        "## Creación del archivo de reserva"
      ],
      "metadata": {
        "id": "g6kCAAVh2dZx"
      }
    },
    {
      "cell_type": "markdown",
      "source": [
        "Crearemos una plantilla en formato JSON donde se mostrarán los distintos datos. Tras esto, convertiremos la conversación a PDF"
      ],
      "metadata": {
        "id": "bB8YOz1n2lml"
      }
    },
    {
      "cell_type": "code",
      "source": [
        "# Define your desired data structure.\n",
        "class Reservador(BaseModel):\n",
        "    Datos_cliente : str = Field(description=\"datos del cliente\")\n",
        "    ID_vuelo: str = Field(description=\"ID del vuelo\")\n",
        "    Trayecto: str = Field(description=\"Información del vuelo, origen y destino\")\n",
        "    Fecha_vuelo: str = Field(description=\"Fecha del vuelo\")\n",
        "    Asientos: str= Field(description=\"Numero de asientos reservados y clase reservada\")\n",
        "    Precio: str = Field(description=\"precio en euros de la reserva y numero de asientos reservado\")"
      ],
      "metadata": {
        "id": "bH204qRkFDsw"
      },
      "execution_count": 26,
      "outputs": []
    },
    {
      "cell_type": "code",
      "source": [
        "# And a query intented to prompt a language model to populate the data structure.\n",
        "texto_query= \"Confirmación de la reserva: \"\n",
        "#variables\n",
        "#nombre_cliente, salida,destino,dia_deseado, asiento,\n",
        "#n_pasajeros, precio_turista, precio_business\n",
        "\n",
        "precio=0.\n",
        "if asiento== \"turista\":\n",
        "  precio=str(precio_turista*int(n_pasajeros)) + \"€\"\n",
        "else:\n",
        "  precio= str(precio_business*int(n_pasajeros)) + \"€\"\n",
        "\n",
        "# Set up a parser + inject instructions into the prompt template.\n",
        "parser = JsonOutputParser(pydantic_object=Reservador)\n",
        "\n",
        "prompt = PromptTemplate(\n",
        "    #importante dar las variables en este orden al final de todo. De no hacerlo así no sale\n",
        "    template=\"Generando información de reserva.\\n{format_instructions}\\n{query}\\{nombre_cliente}\\n{id_vuelo}\\n{salida}\\n{destino}\\n{dia_deseado}\\n{asiento}\\n{n_pasajeros}\\n{precio}\\n\",\n",
        "    input_variables=[\"query\",\"nombre_cliente\", \"salida\",\"destino\",\"dia_deseado\",\n",
        "                     \"asiento\",\"n_pasajeros\",\"precio\"],\n",
        "    partial_variables={\"format_instructions\": parser.get_format_instructions()},\n",
        ")\n",
        "\n",
        "chain = prompt | model | parser\n",
        "\n",
        "reserva= chain.invoke({\"query\": texto_query,\"nombre_cliente\": nombre_cliente,\"id_vuelo\":id_vuelo,\"salida\":salida,\"destino\":destino,\"dia_deseado\": dia_deseado, \"asiento\":asiento, \"n_pasajeros\":n_pasajeros,\"precio\":precio})"
      ],
      "metadata": {
        "id": "uIgQZobLFLuS"
      },
      "execution_count": 61,
      "outputs": []
    },
    {
      "cell_type": "code",
      "source": [
        "reserva"
      ],
      "metadata": {
        "colab": {
          "base_uri": "https://localhost:8080/"
        },
        "id": "wl3lI_JWiLeV",
        "outputId": "5047a943-455f-4bd3-8ded-1a57fda95d3c"
      },
      "execution_count": 62,
      "outputs": [
        {
          "output_type": "execute_result",
          "data": {
            "text/plain": [
              "{'Datos_cliente': 'Maria Rubio',\n",
              " 'ID_vuelo': '1454',\n",
              " 'Trayecto': 'Nueva York - Madrid',\n",
              " 'Fecha_vuelo': '2024-04-04',\n",
              " 'Asientos': 'turista - 2',\n",
              " 'Precio': '1242.92€'}"
            ]
          },
          "metadata": {},
          "execution_count": 62
        }
      ]
    },
    {
      "cell_type": "markdown",
      "source": [
        "### Reserva comprobando campos"
      ],
      "metadata": {
        "id": "icuZcSCT1sb1"
      }
    },
    {
      "cell_type": "markdown",
      "source": [
        "Ahora lo vamos a hacer comprobando si la reserva es posible o no. El modelo debe entender en base al texto de comprobación generado anteriormente, si es posible o no realizar la reserva y enviar mensajes de validación\n",
        "\n",
        "Realizaremos las comprobaciones para\n",
        "\n",
        "* Vuelo que existe con información detallada\n",
        "\n",
        "* Vuelo que no existe\n",
        "\n",
        "* Vuelo que existe con poca información"
      ],
      "metadata": {
        "id": "5APTNbwUwUPI"
      }
    },
    {
      "cell_type": "code",
      "source": [
        "class Reservador_comprobador(BaseModel):\n",
        "    valido : bool = Field(\"Comprobar Si la reserva es posible o no. Si falta algun dato, no es posible\")\n",
        "    estado_reserva: str = Field(description=\"(Reserva Confirmada) si es posible realizarla. (No es posible reservar) si no es posible realizar la reserva \")\n",
        "    Datos_cliente : str = Field(description=\"datos del cliente (nombre). Faltan datos si no existe\")\n",
        "    ID_vuelo: str = Field(description=\"ID del vuelo si existe. No existe el vuelo (veulo deseado) si no existe\")\n",
        "    Trayecto: str = Field(description=\"Información del vuelo, origen y destino si existe. No existe el trayecto (trayecto solicitad) si no existe\")\n",
        "    Fecha_vuelo: str = Field(description=\"Fecha del vuelo si existe. No hay fechas disponibles (fechas solicitadas) si no existe\")\n",
        "    Asientos: int= Field(description=\"Numero de asientos reservados. Faltan datos si no existe\")\n",
        "    Clase: str = Field(description= \"Clase en la que se vuela, turista o business. Faltan datos si no existe\")\n",
        "    Precio: str = Field(description=\"precio total en euros de la reserva si existe. Faltan datos si no existe\")"
      ],
      "metadata": {
        "id": "0yZ8J_jJ1vQg"
      },
      "execution_count": 71,
      "outputs": []
    },
    {
      "cell_type": "code",
      "source": [
        "# And a query intented to prompt a language model to populate the data structure.\n",
        "\n",
        "texto_query= comprobacion\n",
        "precio=0.\n",
        "if asiento== \"turista\":\n",
        "  precio=str(precio_turista*int(n_pasajeros)) + \"€\"\n",
        "else:\n",
        "  precio= str(precio_business*int(n_pasajeros)) + \"€\"\n",
        "\n",
        "# Set up a parser + inject instructions into the prompt template.\n",
        "parser = JsonOutputParser(pydantic_object=Reservador_comprobador)\n",
        "\n",
        "prompt = PromptTemplate(\n",
        "    #importante dar las variables en este orden al final de todo. De no hacerlo así no sale\n",
        "    template = \"Comprobando si es posible realizar la reserva y generando en caso afirmativo. \\n{format_instructions}\\n{query}\\n\",\n",
        "    input_variables=[\"query\"],\n",
        "    partial_variables={\"format_instructions\": parser.get_format_instructions()},\n",
        ")\n",
        "\n",
        "chain = prompt | model | parser\n",
        "\n"
      ],
      "metadata": {
        "id": "FaNVhpEP2XFK"
      },
      "execution_count": 72,
      "outputs": []
    },
    {
      "cell_type": "markdown",
      "source": [
        "**Vuelo que existe con información detallada**"
      ],
      "metadata": {
        "id": "5wgFdXGMwxaY"
      }
    },
    {
      "cell_type": "code",
      "source": [
        "reserva_comprobada= chain.invoke({\"query\":texto_query})"
      ],
      "metadata": {
        "id": "Qi2prT7cwvaW"
      },
      "execution_count": 73,
      "outputs": []
    },
    {
      "cell_type": "code",
      "source": [
        "reserva_comprobada"
      ],
      "metadata": {
        "colab": {
          "base_uri": "https://localhost:8080/"
        },
        "id": "fkInP6d_8aV4",
        "outputId": "97c34611-489b-4ffe-e4cc-b6c13cba5f8b"
      },
      "execution_count": 74,
      "outputs": [
        {
          "output_type": "execute_result",
          "data": {
            "text/plain": [
              "{'valido': True,\n",
              " 'estado_reserva': 'Reserva Confirmada',\n",
              " 'Datos_cliente': 'María Rubio',\n",
              " 'ID_vuelo': '1454',\n",
              " 'Trayecto': 'Nueva York - Madrid',\n",
              " 'Fecha_vuelo': '2024-04-04',\n",
              " 'Asientos': 2,\n",
              " 'Clase': 'Turista',\n",
              " 'Precio': '$1242.92'}"
            ]
          },
          "metadata": {},
          "execution_count": 74
        }
      ]
    },
    {
      "cell_type": "markdown",
      "source": [
        "Resultado satisfactorio en la mayoria de las ejecuciones"
      ],
      "metadata": {
        "id": "Kb1DcidDyk9V"
      }
    },
    {
      "cell_type": "markdown",
      "source": [
        "**Comprobacion con vuelo que no es posible**"
      ],
      "metadata": {
        "id": "2QV8T6pQ8jca"
      }
    },
    {
      "cell_type": "code",
      "source": [
        "comprobador_no_vuelo"
      ],
      "metadata": {
        "id": "cg5LkolUBSzZ",
        "outputId": "a95e90fd-07d9-45cc-a9f6-a481642f1a1d",
        "colab": {
          "base_uri": "https://localhost:8080/",
          "height": 54
        }
      },
      "execution_count": 33,
      "outputs": [
        {
          "output_type": "execute_result",
          "data": {
            "text/plain": [
              "'Dado que en el contexto proporcionado no hay información sobre vuelos desde Córdoba a Badajoz cerca de la fecha 2024-04-14, no es posible realizar la reserva solicitada en el chat. \\n\\nPor lo tanto, lamentablemente no es posible realizar la reserva de vuelos en esas fechas.'"
            ],
            "application/vnd.google.colaboratory.intrinsic+json": {
              "type": "string"
            }
          },
          "metadata": {},
          "execution_count": 33
        }
      ]
    },
    {
      "cell_type": "code",
      "source": [
        "texto_query= comprobador_no_vuelo\n",
        "reserva_comprobada_no = chain.invoke({\"query\":texto_query})"
      ],
      "metadata": {
        "id": "DmsU_IHs_Mwu"
      },
      "execution_count": 34,
      "outputs": []
    },
    {
      "cell_type": "code",
      "source": [
        "reserva_comprobada_no"
      ],
      "metadata": {
        "colab": {
          "base_uri": "https://localhost:8080/"
        },
        "id": "ZneIvnbN_bW_",
        "outputId": "cc308ef4-f127-4597-99a4-5307d64debb3"
      },
      "execution_count": 35,
      "outputs": [
        {
          "output_type": "execute_result",
          "data": {
            "text/plain": [
              "{'valido': False,\n",
              " 'estado_reserva': '(No es posible reservar)',\n",
              " 'Datos_cliente': 'Juan Perez',\n",
              " 'ID_vuelo': 'No existe el vuelo (vuelo deseado)',\n",
              " 'Trayecto': 'No existe el trayecto (trayecto solicitado)',\n",
              " 'Fecha_vuelo': 'No hay fechas disponibles (fechas solicitadas)',\n",
              " 'Asientos': '2',\n",
              " 'Clase': 'Turista',\n",
              " 'Precio': 'Faltan datos'}"
            ]
          },
          "metadata": {},
          "execution_count": 35
        }
      ]
    },
    {
      "cell_type": "markdown",
      "source": [
        "**Vuelo que existe con poca información**"
      ],
      "metadata": {
        "id": "LW88M_qBw8-B"
      }
    },
    {
      "cell_type": "code",
      "source": [
        "texto_query= comprobador_poca_info\n",
        "reserva_comprobada_poca_info = chain.invoke({\"query\":texto_query})\n",
        "reserva_comprobada_poca_info"
      ],
      "metadata": {
        "colab": {
          "base_uri": "https://localhost:8080/"
        },
        "id": "UjblQNzGxUAs",
        "outputId": "75ee0ece-11f7-47e8-b265-186316e4a5b5"
      },
      "execution_count": 36,
      "outputs": [
        {
          "output_type": "execute_result",
          "data": {
            "text/plain": [
              "{'valido': True,\n",
              " 'estado_reserva': 'No es posible reservar',\n",
              " 'Datos_cliente': 'Juan Perez',\n",
              " 'ID_vuelo': '1503',\n",
              " 'Trayecto': 'Madrid - Tokio',\n",
              " 'Fecha_vuelo': '2024-04-15',\n",
              " 'Asientos': 1,\n",
              " 'Clase': 'Turista',\n",
              " 'Precio': '707.67'}"
            ]
          },
          "metadata": {},
          "execution_count": 36
        }
      ]
    },
    {
      "cell_type": "markdown",
      "source": [
        "En ocasiones nos realiza la reserva correctamente (pero con datos equivocados) y en ocasiones no la realiza\n",
        "\n",
        "Que se utilicen datos equivocados tiene sentido, dentro del error, ya que el texto que es enviado al sistema (depndiendo del resultado de la ejecución) tiene escrita la información ficticia del vuelo generada por el modelo de lenguaje.\n",
        "\n",
        "Si no se ha podido apreciar este resultado en la ejecución, se invita a volver a ejecutar el código de realización de reservas, hasta tener la situación de error deseada y posteriormente volver aquí"
      ],
      "metadata": {
        "id": "_A2C2YdwxsZO"
      }
    },
    {
      "cell_type": "markdown",
      "source": [
        "# Generacion del documento de reserva"
      ],
      "metadata": {
        "id": "gyVBgmPRkdzq"
      }
    },
    {
      "cell_type": "markdown",
      "source": [
        "Primero vamos a generar un documento .txt con los datos de la reserva generados en JSON y tras esto trataremos de exportarlos a .pdf"
      ],
      "metadata": {
        "id": "qHw5L8gdz20W"
      }
    },
    {
      "cell_type": "code",
      "source": [
        "nombre_archivo = \"confirmacion_reserva.txt\"\n",
        "\n",
        "# Abrir el archivo en modo escritura\n",
        "with open(nombre_archivo, \"w\") as archivo:\n",
        "    # Obtener una lista de tuplas de clave-valor del diccionario\n",
        "    lista_items = list(reserva_comprobada.items())\n",
        "\n",
        "    # Iterar sobre las tuplas de clave-valor, comenzando desde el segundo elemento\n",
        "    for clave, valor in lista_items[1:]:\n",
        "        # Escribir cada clave y valor en una línea del archivo\n",
        "        archivo.write(f\"{clave}: {valor}\\n\")"
      ],
      "metadata": {
        "id": "eFw88Z8KtreC"
      },
      "execution_count": 75,
      "outputs": []
    },
    {
      "cell_type": "code",
      "source": [
        "# from reportlab.lib.pagesizes import letter\n",
        "# from reportlab.pdfgen import canvas\n",
        "\n",
        "def convertir_txt_a_pdf(archivo_txt, archivo_pdf):\n",
        "    # Crear un lienzo (canvas) PDF\n",
        "    c = canvas.Canvas(archivo_pdf, pagesize=letter)\n",
        "\n",
        "    # Definir la posición inicial para escribir\n",
        "    x, y = 100, 700\n",
        "\n",
        "    # Leer el archivo de texto y escribir su contenido en el PDF\n",
        "    with open(archivo_txt, 'r') as f:\n",
        "        contenido_txt = f.readlines()\n",
        "        for linea in contenido_txt:\n",
        "            # Escribir cada línea en el PDF\n",
        "            c.drawString(x, y, linea)\n",
        "            # Ajustar la posición vertical para la siguiente línea\n",
        "            y -= 12  # Separación entre líneas\n",
        "\n",
        "    # Guardar el PDF y cerrar el lienzo\n",
        "    c.save()\n",
        "\n",
        "# Rutas de los archivos de entrada y salida\n",
        "archivo_txt = \"confirmacion_reserva.txt\"\n",
        "archivo_pdf = \"confirmacion_reserva.pdf\"\n",
        "\n",
        "# Convertir el archivo de texto a PDF\n",
        "convertir_txt_a_pdf(archivo_txt, archivo_pdf)"
      ],
      "metadata": {
        "id": "GGcuAfM8TRVe"
      },
      "execution_count": 76,
      "outputs": []
    },
    {
      "cell_type": "markdown",
      "source": [
        "# Modificación de la base de datos"
      ],
      "metadata": {
        "id": "3PCgtT592gdT"
      }
    },
    {
      "cell_type": "markdown",
      "source": [
        "Si la reserva es posible, es decir, en el JSON generado tener 'valido'==True, Se debe proceder a modificar la base de datos teniendo en cuenta lo sigueintes aspectos:\n",
        "\n",
        "\n",
        "* Para la modificación de algunos campos necesitaremos importar las funciones definidas en el archivo de python\n",
        "* Debemos restar el número de asientos disponibles que se han utilizado\n",
        "* Modificar el precio según la nueva demanda de asientos\n",
        "* Modificar el estado de vuelo (es posible que el vuelo este completo una vez realizada la reserva)"
      ],
      "metadata": {
        "id": "g5HLpGftt5Ra"
      }
    },
    {
      "cell_type": "code",
      "source": [
        "#Librerias para modificar los datos\n",
        "\n",
        "from common.Parametrizacion  import modificar_precio_demanda, modificar_estado_vuelo_demanda\n"
      ],
      "metadata": {
        "id": "XIK1_975Ux7r"
      },
      "execution_count": 77,
      "outputs": []
    },
    {
      "cell_type": "code",
      "source": [
        "Campos_JSON= list(reserva_comprobada.items())"
      ],
      "metadata": {
        "id": "Hsb02i9A0IeZ"
      },
      "execution_count": 78,
      "outputs": []
    },
    {
      "cell_type": "code",
      "source": [
        "Campos_JSON"
      ],
      "metadata": {
        "colab": {
          "base_uri": "https://localhost:8080/"
        },
        "id": "R9J3Q06sysay",
        "outputId": "da7df712-76ee-4450-e09a-11208b5d7825"
      },
      "execution_count": 79,
      "outputs": [
        {
          "output_type": "execute_result",
          "data": {
            "text/plain": [
              "[('valido', True),\n",
              " ('estado_reserva', 'Reserva Confirmada'),\n",
              " ('Datos_cliente', 'María Rubio'),\n",
              " ('ID_vuelo', '1454'),\n",
              " ('Trayecto', 'Nueva York - Madrid'),\n",
              " ('Fecha_vuelo', '2024-04-04'),\n",
              " ('Asientos', 2),\n",
              " ('Clase', 'Turista'),\n",
              " ('Precio', '$1242.92')]"
            ]
          },
          "metadata": {},
          "execution_count": 79
        }
      ]
    },
    {
      "cell_type": "code",
      "source": [
        "if Campos_JSON[0][1]==True:\n",
        "  print(\"modificando base de datos: \\n\")\n",
        "  print(df[df[\"id\"]==int(Campos_JSON[3][1])].to_string(index=False))\n",
        "  print()\n",
        "  df_u=df.copy()\n",
        "  df_u.loc[df_u[\"id\"] == int(Campos_JSON[3][1]), \"plazas_disponibles\"] -= int(Campos_JSON[6][1])\n",
        "  if Campos_JSON[7][1].lower()==\"turista\":\n",
        "    df_u.loc[df_u[\"id\"] == int(Campos_JSON[3][1]), \"plazas_turista_disponibles\"] -= int(Campos_JSON[6][1])\n",
        "  else:\n",
        "    df_u.loc[df_u[\"id\"] == int(Campos_JSON[3][1]), \"plazas_business_disponibles\"] -= int(Campos_JSON[6][1])\n",
        "\n",
        "  precio_business_old=float(df[(df[\"id\"] == int(Campos_JSON[3][1]))][[\"precio_business\"]].iloc[0])\n",
        "  precio_turista_old=float(df[(df[\"id\"] == int(Campos_JSON[3][1]))][[\"precio_turista\"]].iloc[0])\n",
        "  plazas_totales =int(df[(df[\"id\"] == int(Campos_JSON[3][1]))][[\"plazas_totales\"]].iloc[0])\n",
        "  plazas_disponibles =float(df[(df[\"id\"] == int(Campos_JSON[3][1]))][[\"plazas_disponibles\"]].iloc[0]) -int(Campos_JSON[6][1])\n",
        "  fecha_vuelo=(df[(df[\"id\"] == int(Campos_JSON[3][1]))][[\"fecha\"]]).iloc[0][0]\n",
        "  fecha_vuelo=datetime.strptime(fecha_vuelo, '%Y-%m-%d').date()\n",
        "  fecha_sistema= datetime.now().date()\n",
        "\n",
        "\n",
        "  estado_old=str(df[(df[\"id\"] == int(Campos_JSON[3][1]))][[\"estado\"]].iloc[0][0])\n",
        "  hora_salida=str(df[(df[\"id\"] == int(Campos_JSON[3][1]))][[\"hora_salida\"]].iloc[0][0])\n",
        "  duracion= str(df[(df[\"id\"] == int(Campos_JSON[3][1]))][[\"duracion\"]].iloc[0][0])\n",
        "\n",
        "  precio_business_u, precio_turista_u = modificar_precio_demanda(precio_business_old, precio_turista_old, plazas_totales, plazas_disponibles , fecha_vuelo, fecha_sistema)\n",
        "  estado_u = modificar_estado_vuelo_demanda(plazas_totales, plazas_disponibles , fecha_vuelo, fecha_sistema, hora_salida, duracion )\n",
        "\n",
        "  df_u.loc[df_u[\"id\"] == int(Campos_JSON[3][1]), \"estado\"] = estado_u\n",
        "  df_u.loc[df_u[\"id\"] == int(Campos_JSON[3][1]), \"precio_turista\"] = precio_turista_u\n",
        "  df_u.loc[df_u[\"id\"] == int(Campos_JSON[3][1]), \"precio_business\"] = precio_business_u\n",
        "\n",
        "  print(\"base de datos modificada:\\n\")\n",
        "  print(df_u[df_u[\"id\"]==int(Campos_JSON[3][1])].to_string(index=False))"
      ],
      "metadata": {
        "colab": {
          "base_uri": "https://localhost:8080/"
        },
        "id": "sF22V02Cytci",
        "outputId": "d44b3594-2e51-4e0c-d00d-f051c00b354e"
      },
      "execution_count": 80,
      "outputs": [
        {
          "output_type": "stream",
          "name": "stdout",
          "text": [
            "modificando base de datos: \n",
            "\n",
            "  id     estado      fecha hora_salida hora_llegada aeropuerto_salida aeropuerto_llegada duracion    tipo_vuelo      modelo  plazas_totales  plazas_disponibles  plazas_busisness_totales  plazas_business_disponibles  plazas_turista_totales  plazas_turista_disponibles  precio_business  precio_turista\n",
            "1454 Programado 2024-04-04    10:00:00        23:00        Nueva York             Madrid  7 horas internacional Airbus A500             348                   2                        50                            0                     298                           2          1293.46          621.46\n",
            "\n",
            "base de datos modificada:\n",
            "\n",
            "  id   estado      fecha hora_salida hora_llegada aeropuerto_salida aeropuerto_llegada duracion    tipo_vuelo      modelo  plazas_totales  plazas_disponibles  plazas_busisness_totales  plazas_business_disponibles  plazas_turista_totales  plazas_turista_disponibles  precio_business  precio_turista\n",
            "1454 Completo 2024-04-04    10:00:00        23:00        Nueva York             Madrid  7 horas internacional Airbus A500             348                   0                        50                            0                     298                           0         2069.536         994.336\n"
          ]
        }
      ]
    },
    {
      "cell_type": "markdown",
      "source": [
        "remplazamos el anterior csv con el nuevo dataframe"
      ],
      "metadata": {
        "id": "u1ydCfAr6KZU"
      }
    },
    {
      "cell_type": "code",
      "source": [
        "nombre_archivo = 'vuelos_nuevo.csv'\n",
        "df_u.to_csv(nombre_archivo, index=False)"
      ],
      "metadata": {
        "id": "Hxkb__M36J4U"
      },
      "execution_count": 81,
      "outputs": []
    },
    {
      "cell_type": "markdown",
      "source": [
        "# Conclusión\n",
        "\n",
        "A traves del **template_vuelo_perfecto** se ha generado una conversación de chat simulando un chat que tendría el cliente con el robot.\n",
        "\n",
        "Se ha comprobado mediante chat la posibilidad de hacer la reserva aportando el csv como contexto y la conversación anterior **chat_history.messages[-1]** junto con **template_r** que se encargará de ser la plantilla usada para la comprobación\n",
        "\n",
        "Una vez creado este chat de comprobación almacenado en **comprobacion** , se ha realizado una comprobación final en formato JSON **reserva_comprobada** y si es posible se ha modificado la base de datos, generado un nuevo csv actualizado y generado un txt y un PDF con los datos de la reserva"
      ],
      "metadata": {
        "id": "CglfI9hFVNYR"
      }
    },
    {
      "cell_type": "code",
      "source": [
        "print(template_vuelo_perfecto)"
      ],
      "metadata": {
        "colab": {
          "base_uri": "https://localhost:8080/"
        },
        "id": "4kfcVsKbWWIg",
        "outputId": "f4524965-d1f3-4cb1-a74b-6ee0d8574cc8"
      },
      "execution_count": 82,
      "outputs": [
        {
          "output_type": "stream",
          "name": "stdout",
          "text": [
            "\n",
            "\n",
            "Actua como un asistente para reservar vuelos con precios estandarizados.\n",
            "\n",
            "Debes crear una transcripción de chat donde un cliente de nombre {cliente} trata\n",
            "de reservar unos vuelos en nuestra aerolinia desde salida {salida} a un\n",
            "destino {destino}. El asistente tiene vuelos en la fecha en la que el cliente\n",
            "quiere volar {fecha} los precios de los asientos en turista{precio_turista} y business{precio_business}.\n",
            "El cliente decide el tipo de asiento {asiento} para un numero de personas {n_pasajeros}.\n",
            "\n",
            "\n",
            "El chat debe tener la siguiente estructura:\n",
            "\n",
            "Cliente: Buenos Dias, quiero vuelos desde {salida} a {destino} cerca de la fecha {fecha}\n",
            "Asistente:Buenos dias {cliente}. Tenemos el siguiente vuelo con id {id_vuelo} en la fecha {fecha}\n",
            "Cliente: Si, quiero reservar el vuelo ese día\n",
            "Asistente: ¿Quieres volar en clase turista o clase business?\n",
            "Cliente: {n_pasajeros} asientos en clase {asiento}, por favor\n",
            "Asistente: El precio del asiento es (precio)\n",
            "\n"
          ]
        }
      ]
    },
    {
      "cell_type": "code",
      "source": [
        "print(chat_history.messages[-1])"
      ],
      "metadata": {
        "colab": {
          "base_uri": "https://localhost:8080/"
        },
        "id": "4Fmp3p2gWZVc",
        "outputId": "66894c06-7af9-4272-8f33-e18ddd39c611"
      },
      "execution_count": 83,
      "outputs": [
        {
          "output_type": "stream",
          "name": "stdout",
          "text": [
            "Cliente: Buenos Dias, quiero vuelos desde Nueva York a Madrid cerca de la fecha 2024-04-04\n",
            "\n",
            "Asistente: Buenos dias Maria Rubio. Tenemos el siguiente vuelo con id 1454 en la fecha 2024-04-04\n",
            "\n",
            "Cliente: Si, quiero reservar el vuelo ese día\n",
            "\n",
            "Asistente: ¿Quieres volar en clase turista o clase business?\n",
            "\n",
            "Cliente: 2 asientos en clase turista, por favor\n",
            "\n",
            "Asistente: El precio del asiento es $621.46\n",
            "\n",
            "¡Reserva realizada con éxito! ¿Hay algo más en lo que te pueda ayudar?\n"
          ]
        }
      ]
    },
    {
      "cell_type": "code",
      "source": [
        "print(template_r)"
      ],
      "metadata": {
        "colab": {
          "base_uri": "https://localhost:8080/"
        },
        "id": "pzUHSR9bZCNA",
        "outputId": "fb9ef852-5060-4111-a0d6-ed613c208511"
      },
      "execution_count": 84,
      "outputs": [
        {
          "output_type": "stream",
          "name": "stdout",
          "text": [
            "\n",
            "Analiza si en el siguiente contexto:\n",
            "{context}\n",
            "\n",
            "es posible realizar la reserva de vuelos solicitada en el chat.\n",
            "Si es posible, muestra los precios de los vuelos y realiza la reserva a nombre del cliente. Mostrando toda la información, Nombre del cliente, origen y destino, id del vuelo, fecha, numero de asientos, precio total etc\n",
            "Si no es posible, muestra un mensaje de que no es posible realizar la reserva y\n",
            "explica por qué\n",
            "\n",
            "El chat será enviado a traves de:\n",
            "Question: {question}\n",
            "\n",
            "Las fechas estan dadas en el formato (año-mes-dia)\n",
            "\n"
          ]
        }
      ]
    },
    {
      "cell_type": "code",
      "source": [
        "print(comprobacion)"
      ],
      "metadata": {
        "colab": {
          "base_uri": "https://localhost:8080/"
        },
        "id": "3NUpuNvXWcx2",
        "outputId": "6de47c2d-9633-482c-b916-e3264120203b"
      },
      "execution_count": 85,
      "outputs": [
        {
          "output_type": "stream",
          "name": "stdout",
          "text": [
            "Sí es posible realizar la reserva del vuelo solicitado. A continuación se muestra la información de la reserva:\n",
            "\n",
            "- Nombre del cliente: María Rubio\n",
            "- Origen: Nueva York\n",
            "- Destino: Madrid\n",
            "- ID del vuelo: 1454\n",
            "- Fecha: 2024-04-04\n",
            "- Clase: Turista\n",
            "- Número de asientos: 2\n",
            "- Precio total: $1242.92\n",
            "\n",
            "¡Reserva realizada con éxito! ¿Hay algo más en lo que te pueda ayudar?\n"
          ]
        }
      ]
    },
    {
      "cell_type": "code",
      "source": [
        "reserva_comprobada"
      ],
      "metadata": {
        "colab": {
          "base_uri": "https://localhost:8080/"
        },
        "id": "RHadFWqfWenP",
        "outputId": "20040e1e-0e8f-473f-a1a4-381fdc3a704e"
      },
      "execution_count": 87,
      "outputs": [
        {
          "output_type": "execute_result",
          "data": {
            "text/plain": [
              "{'valido': True,\n",
              " 'estado_reserva': 'Reserva Confirmada',\n",
              " 'Datos_cliente': 'María Rubio',\n",
              " 'ID_vuelo': '1454',\n",
              " 'Trayecto': 'Nueva York - Madrid',\n",
              " 'Fecha_vuelo': '2024-04-04',\n",
              " 'Asientos': 2,\n",
              " 'Clase': 'Turista',\n",
              " 'Precio': '$1242.92'}"
            ]
          },
          "metadata": {},
          "execution_count": 87
        }
      ]
    },
    {
      "cell_type": "code",
      "source": [],
      "metadata": {
        "id": "a9oL77kIZrkW"
      },
      "execution_count": null,
      "outputs": []
    }
  ]
}